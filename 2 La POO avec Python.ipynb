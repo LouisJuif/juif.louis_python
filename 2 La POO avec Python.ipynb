{
 "cells": [
  {
   "cell_type": "markdown",
   "metadata": {},
   "source": [
    "# Les classes d'objets en Python"
   ]
  },
  {
   "cell_type": "code",
   "execution_count": 3,
   "metadata": {},
   "outputs": [
    {
     "name": "stdout",
     "output_type": "stream",
     "text": [
      "24/12/1999\n",
      "Lech mich ma hersch !\n"
     ]
    }
   ],
   "source": [
    "class EtreHumain:\n",
    "    def __init__(self, dateNaissance):\n",
    "        self.DateNaissance = dateNaissance\n",
    "    \n",
    "    def show(self):\n",
    "        print(self.DateNaissance)\n",
    "    \n",
    "class Francais(EtreHumain):\n",
    "    def setNationality(self, nationality):\n",
    "        self.Nationality = nationality\n",
    "        \n",
    "class Alsacien(Francais):\n",
    "    def setLanguage(self, dialecte):\n",
    "        self.Dialecte = dialecte\n",
    "    \n",
    "Louis = Alsacien(\"24/12/1999\")\n",
    "Louis.show()\n",
    "Louis.setNationality(\"Français\")\n",
    "Louis.setLanguage(\"Lech mich ma hersch !\")\n",
    "print(Louis.Dialecte)"
   ]
  },
  {
   "cell_type": "code",
   "execution_count": 4,
   "metadata": {},
   "outputs": [
    {
     "name": "stdout",
     "output_type": "stream",
     "text": [
      "\u001b[94mToto\n",
      "\u001b[93mToto\n",
      "\u001b[91mToto\n",
      "\u001b[1mToto\n"
     ]
    }
   ],
   "source": [
    "class bcolors:\n",
    "    HEADER = '\\033[95m'\n",
    "    OKBLUE = '\\033[94m'\n",
    "    OKGREEN = '\\033[90m'\n",
    "    WARNING = '\\033[93m'\n",
    "    FAIL = '\\033[91m'\n",
    "    ENDC = '\\033[0m'\n",
    "    BOLD = '\\033[1m'\n",
    "    UNDERLINE = '\\033[4m'\n",
    "    \n",
    "print(bcolors.OKBLUE + \"Toto\")\n",
    "print(bcolors.WARNING + \"Toto\")\n",
    "print(bcolors.FAIL + \"Toto\")\n",
    "print(bcolors.BOLD + \"Toto\")"
   ]
  },
  {
   "cell_type": "code",
   "execution_count": 22,
   "metadata": {},
   "outputs": [
    {
     "name": "stdout",
     "output_type": "stream",
     "text": [
      "c\n",
      "c\n",
      "a\n",
      "c\n",
      "a\n",
      "a\n",
      "c\n",
      "a\n",
      "a\n",
      "b\n"
     ]
    }
   ],
   "source": [
    "import random, tkinter\n",
    "arf = random.random()\n",
    "print(random.choice(['a', 'b', 'c']))\n",
    "print(random.choice(['a', 'b', 'c']))\n",
    "print(random.choice(['a', 'b', 'c']))\n",
    "print(random.choice(['a', 'b', 'c']))\n",
    "print(random.choice(['a', 'b', 'c']))\n",
    "print(random.choice(['a', 'b', 'c']))\n",
    "print(random.choice(['a', 'b', 'c']))\n",
    "print(random.choice(['a', 'b', 'c']))\n",
    "print(random.choice(['a', 'b', 'c']))\n",
    "print(random.choice(['a', 'b', 'c']))"
   ]
  },
  {
   "cell_type": "code",
   "execution_count": null,
   "metadata": {},
   "outputs": [],
   "source": []
  },
  {
   "cell_type": "code",
   "execution_count": null,
   "metadata": {},
   "outputs": [],
   "source": []
  },
  {
   "cell_type": "code",
   "execution_count": null,
   "metadata": {},
   "outputs": [],
   "source": []
  },
  {
   "cell_type": "code",
   "execution_count": null,
   "metadata": {},
   "outputs": [],
   "source": []
  }
 ],
 "metadata": {
  "kernelspec": {
   "display_name": "Python 3",
   "language": "python",
   "name": "python3"
  },
  "language_info": {
   "codemirror_mode": {
    "name": "ipython",
    "version": 3
   },
   "file_extension": ".py",
   "mimetype": "text/x-python",
   "name": "python",
   "nbconvert_exporter": "python",
   "pygments_lexer": "ipython3",
   "version": "3.8.5"
  }
 },
 "nbformat": 4,
 "nbformat_minor": 4
}
