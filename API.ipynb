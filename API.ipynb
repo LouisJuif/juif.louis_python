{
 "cells": [
  {
   "cell_type": "code",
   "execution_count": 57,
   "metadata": {},
   "outputs": [
    {
     "name": "stdout",
     "output_type": "stream",
     "text": [
      "Numéro 1 : Toru Hara avec une moyenne de : 97.0\n",
      "Numéro 2 : Yoshiaki Nishimura avec une moyenne de : 96.0\n",
      "Numéro 3 : Hayao Miyazaki avec une moyenne de : 94.5\n",
      "Numéro 4 : Isao Takahata avec une moyenne de : 94.0\n",
      "Numéro 5 : Vincent Maraval avec une moyenne de : 93.0\n",
      "Numéro 6 : Pascal Caucheteux avec une moyenne de : 93.0\n",
      "Numéro 7 : Grégoire Sorlat avec une moyenne de : 93.0\n",
      "Numéro 8 : Toshio Suzuki avec une moyenne de : 86.4\n"
     ]
    }
   ],
   "source": [
    "import requests\n",
    "from statistics import mean\n",
    "\n",
    "r = requests.get(\"https://ghibliapi.herokuapp.com/films\")\n",
    "lstFilms = r.json()\n",
    "lstScoreProducer = {}\n",
    "\n",
    "lstProducer = {}\n",
    "\n",
    "for film in lstFilms:\n",
    "    if \",\" in film[\"producer\"]:\n",
    "        multiProducer = film[\"producer\"].split(\", \")\n",
    "        for producer in multiProducer:\n",
    "            if producer not in lstProducer:\n",
    "                lstProducer[producer] = []\n",
    "    elif film[\"producer\"] not in lstProducer:\n",
    "        lstProducer[film[\"producer\"]] = []\n",
    "\n",
    "for producer in lstProducer:\n",
    "    for film in lstFilms:\n",
    "        if producer in film[\"producer\"]:\n",
    "            lstProducer[producer].append(int(film[\"rt_score\"]))\n",
    "            \n",
    "for producer in lstProducer:\n",
    "    lstScoreProducer[producer] = []\n",
    "    lstScoreProducer[producer] = float(mean(lstProducer[producer]))\n",
    "sortedListScore = {k: v for k, v in sorted(lstScoreProducer.items(),key=lambda item:item[1],reverse=True)}\n",
    "\n",
    "i = 1\n",
    "for producer in sortedListScore:    \n",
    "    print(\"Numéro\", i, \":\", producer + \" avec une moyenne de :\", sortedListScore[producer])\n",
    "    i+=1\n",
    "    \n",
    "\n",
    "    \n",
    "\n"
   ]
  }
 ],
 "metadata": {
  "kernelspec": {
   "display_name": "Python 3",
   "language": "python",
   "name": "python3"
  },
  "language_info": {
   "codemirror_mode": {
    "name": "ipython",
    "version": 3
   },
   "file_extension": ".py",
   "mimetype": "text/x-python",
   "name": "python",
   "nbconvert_exporter": "python",
   "pygments_lexer": "ipython3",
   "version": "3.8.5"
  }
 },
 "nbformat": 4,
 "nbformat_minor": 4
}
