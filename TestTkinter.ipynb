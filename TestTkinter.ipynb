{
 "cells": [
  {
   "cell_type": "code",
   "execution_count": 3,
   "metadata": {},
   "outputs": [],
   "source": [
    "from tkinter import *\n",
    "\n",
    "class Application(Frame):\n",
    "    def __init__(self, master=None):\n",
    "        super().__init__(master)\n",
    "        self.master = master\n",
    "        self.pack()\n",
    "        self.create_widgets()\n",
    "\n",
    "\n",
    "    def create_widgets(self):\n",
    "        self.hi_there = Button(self)\n",
    "        self.hi_there[\"text\"] = \"Hello World\\n(click me)\"\n",
    "        self.hi_there[\"command\"] = self.say_hi\n",
    "        self.hi_there.pack(side=\"top\")\n",
    "\n",
    "        self.quit = Button(self, text=\"QUIT\", fg=\"red\",\n",
    "                              command=self.master.destroy)\n",
    "        self.quit.pack(side=\"bottom\")\n",
    "        \n",
    "        canvas = Canvas(self, width=100, height=150, background='yellow')\n",
    "        txt = canvas.create_text(75, 60, text=\"Cible\", font=\"Arial 16 italic\", fill=\"blue\")\n",
    "        canvas.pack()\n",
    "\n",
    "    def say_hi(self):\n",
    "        print(\"hi there, everyone!\")\n",
    "        \n",
    "        \n",
    "        \n",
    "        \n",
    "        \n",
    "class ChoosePlayerNames(Frame):\n",
    "    def __init__(self, master=None):\n",
    "        super().__init__(master)\n",
    "        self.master = master\n",
    "        self.pack()\n",
    "        self.create_widgets()\n",
    "        \n",
    "    def create_widgets(self):\n",
    "        label = Label(self, text=\"Nom du joueur\", font=\"20\")\n",
    "        label.pack()\n",
    "        nom = StringVar()\n",
    "        txtBox = Entry(self, textvariable=nom, width=30, font=\"20\")\n",
    "        txtBox.pack()\n",
    "        \n",
    "        self.quit = Button(self, text=\"QUIT\", fg=\"red\",\n",
    "                              command=self.master.destroy)\n",
    "        self.quit.pack(side=\"bottom\")\n",
    "\n",
    "        \n",
    "        \n",
    "        \n",
    "        \n",
    "        \n",
    "root = Tk(className='Uno')\n",
    "root.attributes(\"-fullscreen\",True)\n",
    "app = ChoosePlayerNames(master=root)\n",
    "app.mainloop()"
   ]
  },
  {
   "cell_type": "code",
   "execution_count": null,
   "metadata": {},
   "outputs": [],
   "source": []
  },
  {
   "cell_type": "code",
   "execution_count": null,
   "metadata": {},
   "outputs": [],
   "source": []
  },
  {
   "cell_type": "code",
   "execution_count": null,
   "metadata": {},
   "outputs": [],
   "source": []
  }
 ],
 "metadata": {
  "kernelspec": {
   "display_name": "Python 3",
   "language": "python",
   "name": "python3"
  },
  "language_info": {
   "codemirror_mode": {
    "name": "ipython",
    "version": 3
   },
   "file_extension": ".py",
   "mimetype": "text/x-python",
   "name": "python",
   "nbconvert_exporter": "python",
   "pygments_lexer": "ipython3",
   "version": "3.8.5"
  }
 },
 "nbformat": 4,
 "nbformat_minor": 4
}
