{
 "cells": [
  {
   "cell_type": "code",
   "execution_count": 147,
   "metadata": {},
   "outputs": [
    {
     "name": "stdout",
     "output_type": "stream",
     "text": [
      "['6V']\n",
      "['2J']\n",
      "['6V', '5J']\n",
      "['2J', '3V']\n",
      "['6V', '5J', 'stopR']\n",
      "['2J', '3V', '6V']\n",
      "['6V', '5J', 'stopR', '1R']\n",
      "['2J', '3V', '6V', '4J']\n",
      "['6V', '5J', 'stopR', '1R', '9B']\n",
      "['2J', '3V', '6V', '4J', '8R']\n",
      "['6V', '5J', 'stopR', '1R', '9B', '9B']\n",
      "['2J', '3V', '6V', '4J', '8R', '8J']\n",
      "['6V', '5J', 'stopR', '1R', '9B', '9B', '+4']\n",
      "['2J', '3V', '6V', '4J', '8R', '8J', '2R']\n",
      "\u001b[34m5B\n",
      "\u001b[33m3J\n",
      "\u001b[33m6J\n",
      "\u001b[33m+2J\n",
      "\u001b[34m5B\n",
      "\u001b[31m9R\n",
      "\u001b[31m+2R\n"
     ]
    }
   ],
   "source": [
    "import random\n",
    "\n",
    "class couleurs:\n",
    "    BLEU = '\\033[34m'\n",
    "    ROUGE = '\\033[31m'\n",
    "    JAUNE = '\\033[33m'\n",
    "    VERT = '\\033[32m'\n",
    "    \n",
    "def initialisation():\n",
    "    cartesPioche = [\"+2B\",\"+2B\",\"invB\",\"invB\",\"stopB\",\"stopB\",\"0B\",\"1B\",\"1B\",\"2B\",\"2B\",\"3B\",\"3B\",\"4B\",\"4B\",\"5B\",\"5B\",\"6B\",\"6B\",\"7B\",\"7B\",\"8B\",\"8B\",\"9B\",\"9B\",\"+2R\",\"+2R\",\"invR\",\"invR\",\"stopR\",\"stopR\",\"0R\",\"1R\",\"1R\",\"2R\",\"2R\",\"3R\",\"3R\",\"4R\",\"4R\",\"5R\",\"5R\",\"6R\",\"6R\",\"7R\",\"7R\",\"8R\",\"8R\",\"9R\",\"9R\",\"+2J\",\"+2J\",\"invJ\",\"invJ\",\"stopJ\",\"stopJ\",\"0J\",\"1J\",\"1J\",\"2J\",\"2J\",\"3J\",\"3J\",\"4J\",\"4J\",\"5J\",\"5J\",\"6J\",\"6J\",\"7J\",\"7J\",\"8J\",\"8J\",\"9J\",\"9J\",\"+2V\",\"+2V\",\"invV\",\"invV\",\"stopV\",\"stopV\",\"0V\",\"1V\",\"1V\",\"2V\",\"2V\",\"3V\",\"3V\",\"4V\",\"4V\",\"5V\",\"5V\",\"6V\",\"6V\",\"7V\",\"7V\",\"8V\",\"8V\",\"9V\",\"9V\",\"+4\",\"+4\",\"+4\",\"+4\"]\n",
    "    shuffle(cartesPioche)\n",
    "\n",
    "    cartes_joueur_1 = []\n",
    "    cartes_joueur_2 = []\n",
    "\n",
    "    count = 7\n",
    "    while (count > 0):   \n",
    "        cartes_joueur_1.append(cartesPioche[0])\n",
    "        cartesPioche.pop(0)\n",
    "\n",
    "        cartes_joueur_2.append(cartesPioche[0])\n",
    "        cartesPioche.pop(0)\n",
    "\n",
    "        print(cartes_joueur_1)\n",
    "        print(cartes_joueur_2)\n",
    "        count-= 1\n",
    "\n",
    "    tour = random.randint(1,2)\n",
    "    \n",
    "def show_cartes():\n",
    "    for i in range(len(cartes_joueur_1)):\n",
    "        if (cartes_joueur_1[i].find('B')!=-1):\n",
    "            print(couleurs.BLEU + cartes_joueur_1[i])\n",
    "        elif (cartes_joueur_1[i].find('R')!=-1):\n",
    "            print(couleurs.ROUGE + cartes_joueur_1[i])\n",
    "        elif (cartes_joueur_1[i].find('J')!=-1):\n",
    "            print(couleurs.JAUNE + cartes_joueur_1[i])\n",
    "        elif (cartes_joueur_1[i].find('V')!=-1):\n",
    "            print(couleurs.VERT + cartes_joueur_1[i])\n",
    "    return\n",
    "    \n",
    "show_cartes()\n",
    "initialisation()\n",
    "\n",
    "# while (len(cartes_joueur_1) > 0 or len(cartes_joueur_2) > 0)\n"
   ]
  },
  {
   "cell_type": "code",
   "execution_count": null,
   "metadata": {},
   "outputs": [],
   "source": []
  }
 ],
 "metadata": {
  "kernelspec": {
   "display_name": "Python 3",
   "language": "python",
   "name": "python3"
  },
  "language_info": {
   "codemirror_mode": {
    "name": "ipython",
    "version": 3
   },
   "file_extension": ".py",
   "mimetype": "text/x-python",
   "name": "python",
   "nbconvert_exporter": "python",
   "pygments_lexer": "ipython3",
   "version": "3.8.5"
  }
 },
 "nbformat": 4,
 "nbformat_minor": 4
}
