{
 "cells": [
  {
   "cell_type": "markdown",
   "metadata": {},
   "source": [
    "# Commande de base pour démarrer"
   ]
  },
  {
   "cell_type": "code",
   "execution_count": 1,
   "metadata": {},
   "outputs": [
    {
     "name": "stdout",
     "output_type": "stream",
     "text": [
      "Hello world !\n"
     ]
    }
   ],
   "source": [
    "print(\"Hello world !\")"
   ]
  },
  {
   "cell_type": "markdown",
   "metadata": {},
   "source": [
    "# Les attributions et créations de variables"
   ]
  },
  {
   "cell_type": "code",
   "execution_count": 2,
   "metadata": {},
   "outputs": [],
   "source": [
    "maVariable = \"string\""
   ]
  },
  {
   "cell_type": "code",
   "execution_count": 3,
   "metadata": {},
   "outputs": [],
   "source": [
    "maVariable2 = 1"
   ]
  },
  {
   "cell_type": "code",
   "execution_count": 4,
   "metadata": {},
   "outputs": [
    {
     "name": "stdout",
     "output_type": "stream",
     "text": [
      "1000.0\n"
     ]
    }
   ],
   "source": [
    "milliers = 1000.0 #Float\n",
    "print(str(milliers))\n",
    "monInteger = int(milliers)"
   ]
  },
  {
   "cell_type": "code",
   "execution_count": 5,
   "metadata": {},
   "outputs": [
    {
     "name": "stdin",
     "output_type": "stream",
     "text": [
      "Press the enter key to exit. test\n"
     ]
    },
    {
     "name": "stdout",
     "output_type": "stream",
     "text": [
      "test\n"
     ]
    }
   ],
   "source": [
    "maVariable = input(\"Press the enter key to exit.\")\n",
    "print(maVariable)"
   ]
  },
  {
   "cell_type": "markdown",
   "metadata": {},
   "source": [
    "# Listes, array et tuples..."
   ]
  },
  {
   "cell_type": "code",
   "execution_count": 6,
   "metadata": {},
   "outputs": [
    {
     "name": "stdout",
     "output_type": "stream",
     "text": [
      "['Un', 'Deux', 'Trois', 'Quatre']\n",
      "Un\n",
      "['Deux', 'Trois']\n",
      "['Trois', 'Quatre']\n"
     ]
    }
   ],
   "source": [
    "maListe = ['Un', \"Deux\", \"Trois\", \"Quatre\"]\n",
    "print(maListe)\n",
    "print(maListe[0])\n",
    "print(maListe[1:3])\n",
    "print(maListe[2:])"
   ]
  },
  {
   "cell_type": "markdown",
   "metadata": {},
   "source": [
    "# Dictionnaires"
   ]
  },
  {
   "cell_type": "code",
   "execution_count": 7,
   "metadata": {},
   "outputs": [
    {
     "name": "stdout",
     "output_type": "stream",
     "text": [
      "This is one\n",
      "dict_keys(['One', 2])\n",
      "dict_values(['This is one', 'This is two'])\n"
     ]
    }
   ],
   "source": [
    "monDict = {}\n",
    "monDict['One'] = \"This is one\"\n",
    "monDict[2] = \"This is two\"\n",
    "\n",
    "print(monDict['One'])\n",
    "print(monDict.keys())\n",
    "print(monDict.values())"
   ]
  },
  {
   "cell_type": "markdown",
   "metadata": {},
   "source": [
    "# Travail avec des fichiers"
   ]
  },
  {
   "cell_type": "code",
   "execution_count": 17,
   "metadata": {},
   "outputs": [
    {
     "name": "stdout",
     "output_type": "stream",
     "text": [
      "Un\n",
      "\n",
      "s\n",
      "Deux\n",
      "\n",
      "s\n",
      "Trois\n",
      "\n",
      "s\n",
      "Manu\n",
      "\n",
      "s\n",
      "Louis\n",
      "\n",
      "s\n",
      "Lucas\n",
      "s\n",
      "bonjour louis\n"
     ]
    }
   ],
   "source": [
    "mystring = \"louis\"\n",
    "\n",
    "monContenu = open(\"C:/Users/Louis/Documents/GitHub/juif.louis_python/maListe.txt\", \"r\")\n",
    "for ligne in monContenu:\n",
    "    print(ligne)\n",
    "    print(mystring[4])\n",
    "\n",
    "print(\"bonjour \" + mystring)"
   ]
  },
  {
   "cell_type": "code",
   "execution_count": 18,
   "metadata": {},
   "outputs": [
    {
     "name": "stdout",
     "output_type": "stream",
     "text": [
      "J'ai trouvé le prof !\n"
     ]
    }
   ],
   "source": [
    "with open(\"C:/Users/Louis/Documents/GitHub/juif.louis_python/maListe.txt\", \"r\", encoding='utf-8') as infile:\n",
    "    for line in infile:\n",
    "        if line.startswith('Manu'):\n",
    "            print(\"J'ai trouvé le prof !\")"
   ]
  },
  {
   "cell_type": "code",
   "execution_count": 19,
   "metadata": {},
   "outputs": [
    {
     "name": "stdout",
     "output_type": "stream",
     "text": [
      "Value of expression is 100\n",
      "smicard !\n"
     ]
    }
   ],
   "source": [
    "var = 100\n",
    "if(var==100): print (\"Value of expression is 100\")\n",
    "    \n",
    "if(var < 1200):\n",
    "    print(\"smicard !\")\n",
    "elif(var < 9000):\n",
    "    print(\"average !\")\n",
    "else:\n",
    "    print(\"He's over nine thousaaaands !\")"
   ]
  },
  {
   "cell_type": "markdown",
   "metadata": {},
   "source": [
    "# Structure for"
   ]
  },
  {
   "cell_type": "code",
   "execution_count": 20,
   "metadata": {},
   "outputs": [
    {
     "name": "stdout",
     "output_type": "stream",
     "text": [
      "Current letter :  P\n",
      "Current letter :  y\n",
      "Current letter :  t\n",
      "Current letter :  h\n",
      "Current letter :  o\n",
      "Current letter :  n\n"
     ]
    }
   ],
   "source": [
    "for letter in 'Python':\n",
    "    print('Current letter : ', letter)"
   ]
  },
  {
   "cell_type": "code",
   "execution_count": 21,
   "metadata": {},
   "outputs": [
    {
     "name": "stdout",
     "output_type": "stream",
     "text": [
      "Current fruit : banane\n",
      "Current fruit : pomme\n",
      "Current fruit : mangue\n",
      "That was good ! (that's what she said !)\n"
     ]
    }
   ],
   "source": [
    "fruits = ['banane', 'pomme', 'mangue']\n",
    "for fruit in fruits:\n",
    "    print(\"Current fruit :\", fruit)\n",
    "print(\"That was good ! (that's what she said !)\")"
   ]
  },
  {
   "cell_type": "code",
   "execution_count": 22,
   "metadata": {},
   "outputs": [
    {
     "name": "stdout",
     "output_type": "stream",
     "text": [
      "The count is : 0\n",
      "The count is : 1\n",
      "The count is : 2\n",
      "The count is : 3\n",
      "The count is : 4\n",
      "The count is : 5\n",
      "The count is : 6\n",
      "The count is : 7\n",
      "The count is : 8\n",
      "It's the final countdoooooown !\n"
     ]
    }
   ],
   "source": [
    "count = 0\n",
    "while (count < 9):\n",
    "    print ('The count is :', count)\n",
    "    count+= 1\n",
    "print (\"It's the final countdoooooown !\")"
   ]
  },
  {
   "cell_type": "markdown",
   "metadata": {},
   "source": [
    "# Les fonctions"
   ]
  },
  {
   "cell_type": "code",
   "execution_count": 25,
   "metadata": {},
   "outputs": [
    {
     "name": "stdout",
     "output_type": "stream",
     "text": [
      "Bonjour Louis\n"
     ]
    }
   ],
   "source": [
    "def bonjour_vous(nom):\n",
    "    print(\"Bonjour\", nom)\n",
    "    return\n",
    "\n",
    "bonjour_vous(\"Louis\")"
   ]
  },
  {
   "cell_type": "code",
   "execution_count": null,
   "metadata": {},
   "outputs": [],
   "source": []
  },
  {
   "cell_type": "code",
   "execution_count": null,
   "metadata": {},
   "outputs": [],
   "source": []
  },
  {
   "cell_type": "code",
   "execution_count": null,
   "metadata": {},
   "outputs": [],
   "source": []
  },
  {
   "cell_type": "code",
   "execution_count": null,
   "metadata": {},
   "outputs": [],
   "source": []
  },
  {
   "cell_type": "code",
   "execution_count": null,
   "metadata": {},
   "outputs": [],
   "source": []
  }
 ],
 "metadata": {
  "kernelspec": {
   "display_name": "Python 3",
   "language": "python",
   "name": "python3"
  },
  "language_info": {
   "codemirror_mode": {
    "name": "ipython",
    "version": 3
   },
   "file_extension": ".py",
   "mimetype": "text/x-python",
   "name": "python",
   "nbconvert_exporter": "python",
   "pygments_lexer": "ipython3",
   "version": "3.8.5"
  }
 },
 "nbformat": 4,
 "nbformat_minor": 4
}
