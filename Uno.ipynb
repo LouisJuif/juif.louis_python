{
 "cells": [
  {
   "cell_type": "code",
   "execution_count": null,
   "metadata": {},
   "outputs": [
    {
     "name": "stdin",
     "output_type": "stream",
     "text": [
      "Pseudo du joueur 1 : a\n",
      "Pseudo du joueur 2 : b\n"
     ]
    },
    {
     "name": "stdout",
     "output_type": "stream",
     "text": [
      "------------------------------------------------------------------------------------------------------\n",
      "Au tour de : a\n",
      "\u001b[97m 1 \u001b[32m 7\n",
      "\u001b[97m 2 \u001b[34m 2\n",
      "\u001b[97m 3 \u001b[33m 7\n",
      "\u001b[97m 4 \u001b[33m 2\n",
      "\u001b[97m 5 \u001b[33m 0\n",
      "\u001b[97m 6 \u001b[33m 8\n",
      "\u001b[97m 7 \u001b[33m +2\n",
      "\u001b[97m Piocher\n",
      "\u001b[31m Dernière carte jouée : 7\n"
     ]
    },
    {
     "name": "stdin",
     "output_type": "stream",
     "text": [
      "Choisissez le numéro d'une carte à poser :  1\n"
     ]
    },
    {
     "name": "stdout",
     "output_type": "stream",
     "text": [
      "------------------------------------------------------------------------------------------------------\n",
      "Au tour de : b\n",
      "\u001b[97m 1 \u001b[32m 5\n",
      "\u001b[97m 2 \u001b[97m +4\n",
      "\u001b[97m 3 \u001b[33m X\n",
      "\u001b[97m 4 \u001b[31m 9\n",
      "\u001b[97m 5 \u001b[31m 1\n",
      "\u001b[97m 6 \u001b[32m 3\n",
      "\u001b[97m 7 \u001b[33m 4\n",
      "\u001b[97m Piocher\n",
      "\u001b[32m Dernière carte jouée : 7\n"
     ]
    },
    {
     "name": "stdin",
     "output_type": "stream",
     "text": [
      "Choisissez le numéro d'une carte à poser :  1\n"
     ]
    },
    {
     "name": "stdout",
     "output_type": "stream",
     "text": [
      "------------------------------------------------------------------------------------------------------\n",
      "Au tour de : a\n",
      "\u001b[97m 1 \u001b[34m 2\n",
      "\u001b[97m 2 \u001b[33m 7\n",
      "\u001b[97m 3 \u001b[33m 2\n",
      "\u001b[97m 4 \u001b[33m 0\n",
      "\u001b[97m 5 \u001b[33m 8\n",
      "\u001b[97m 6 \u001b[33m +2\n",
      "\u001b[97m Piocher\n",
      "\u001b[32m Dernière carte jouée : 5\n"
     ]
    },
    {
     "name": "stdin",
     "output_type": "stream",
     "text": [
      "Choisissez le numéro d'une carte à poser :  P\n"
     ]
    },
    {
     "name": "stdout",
     "output_type": "stream",
     "text": [
      "------------------------------------------------------------------------------------------------------\n",
      "Au tour de : b\n",
      "\u001b[97m 1 \u001b[97m +4\n",
      "\u001b[97m 2 \u001b[33m X\n",
      "\u001b[97m 3 \u001b[31m 9\n",
      "\u001b[97m 4 \u001b[31m 1\n",
      "\u001b[97m 5 \u001b[32m 3\n",
      "\u001b[97m 6 \u001b[33m 4\n",
      "\u001b[97m Piocher\n",
      "\u001b[32m Dernière carte jouée : 5\n"
     ]
    },
    {
     "name": "stdin",
     "output_type": "stream",
     "text": [
      "Choisissez le numéro d'une carte à poser :  5\n"
     ]
    },
    {
     "name": "stdout",
     "output_type": "stream",
     "text": [
      "------------------------------------------------------------------------------------------------------\n",
      "Au tour de : a\n",
      "\u001b[97m 1 \u001b[34m 2\n",
      "\u001b[97m 2 \u001b[33m 7\n",
      "\u001b[97m 3 \u001b[33m 2\n",
      "\u001b[97m 4 \u001b[33m 0\n",
      "\u001b[97m 5 \u001b[33m 8\n",
      "\u001b[97m 6 \u001b[33m +2\n",
      "\u001b[97m 7 \u001b[31m 7\n",
      "\u001b[97m Piocher\n",
      "\u001b[32m Dernière carte jouée : 3\n"
     ]
    },
    {
     "name": "stdin",
     "output_type": "stream",
     "text": [
      "Choisissez le numéro d'une carte à poser :  P\n"
     ]
    },
    {
     "name": "stdout",
     "output_type": "stream",
     "text": [
      "------------------------------------------------------------------------------------------------------\n",
      "Au tour de : b\n",
      "\u001b[97m 1 \u001b[97m +4\n",
      "\u001b[97m 2 \u001b[33m X\n",
      "\u001b[97m 3 \u001b[31m 9\n",
      "\u001b[97m 4 \u001b[31m 1\n",
      "\u001b[97m 5 \u001b[33m 4\n",
      "\u001b[97m Piocher\n",
      "\u001b[32m Dernière carte jouée : 3\n"
     ]
    },
    {
     "name": "stdin",
     "output_type": "stream",
     "text": [
      "Choisissez le numéro d'une carte à poser :  1\n"
     ]
    },
    {
     "name": "stdout",
     "output_type": "stream",
     "text": [
      "------------------------------------------------------------------------------------------------------\n",
      "Liste des couleurs :\n",
      "\u001b[34m BLEU\n",
      "\u001b[31m ROUGE\n",
      "\u001b[33m JAUNE\n",
      "\u001b[32m VERT\n"
     ]
    },
    {
     "name": "stdin",
     "output_type": "stream",
     "text": [
      "Choisissez la prochaine couleur :  ROUGE\n"
     ]
    },
    {
     "name": "stdout",
     "output_type": "stream",
     "text": [
      "a a été bloqué !\n",
      "Au tour de : b\n",
      "\u001b[97m 1 \u001b[33m X\n",
      "\u001b[97m 2 \u001b[31m 9\n",
      "\u001b[97m 3 \u001b[31m 1\n",
      "\u001b[97m 4 \u001b[33m 4\n",
      "\u001b[97m Piocher\n",
      "\u001b[31m Dernière carte jouée : +4\n"
     ]
    },
    {
     "name": "stdin",
     "output_type": "stream",
     "text": [
      "Choisissez le numéro d'une carte à poser :  2\n"
     ]
    },
    {
     "name": "stdout",
     "output_type": "stream",
     "text": [
      "------------------------------------------------------------------------------------------------------\n",
      "Au tour de : a\n",
      "\u001b[97m 1 \u001b[34m 2\n",
      "\u001b[97m 2 \u001b[33m 7\n",
      "\u001b[97m 3 \u001b[33m 2\n",
      "\u001b[97m 4 \u001b[33m 0\n",
      "\u001b[97m 5 \u001b[33m 8\n",
      "\u001b[97m 6 \u001b[33m +2\n",
      "\u001b[97m 7 \u001b[31m 7\n",
      "\u001b[97m 8 \u001b[32m 4\n",
      "\u001b[97m 9 \u001b[34m 3\n",
      "\u001b[97m 10 \u001b[31m 2\n",
      "\u001b[97m 11 \u001b[31m inv\n",
      "\u001b[97m 12 \u001b[32m 4\n",
      "\u001b[97m Piocher\n",
      "\u001b[31m Dernière carte jouée : 9\n"
     ]
    },
    {
     "name": "stdin",
     "output_type": "stream",
     "text": [
      "Choisissez le numéro d'une carte à poser :  7\n"
     ]
    },
    {
     "name": "stdout",
     "output_type": "stream",
     "text": [
      "------------------------------------------------------------------------------------------------------\n",
      "Au tour de : b\n",
      "\u001b[97m 1 \u001b[33m X\n",
      "\u001b[97m 2 \u001b[31m 1\n",
      "\u001b[97m 3 \u001b[33m 4\n",
      "\u001b[97m Piocher\n",
      "\u001b[31m Dernière carte jouée : 7\n"
     ]
    },
    {
     "name": "stdin",
     "output_type": "stream",
     "text": [
      "Choisissez le numéro d'une carte à poser :  2\n"
     ]
    },
    {
     "name": "stdout",
     "output_type": "stream",
     "text": [
      "------------------------------------------------------------------------------------------------------\n",
      "Au tour de : a\n",
      "\u001b[97m 1 \u001b[34m 2\n",
      "\u001b[97m 2 \u001b[33m 7\n",
      "\u001b[97m 3 \u001b[33m 2\n",
      "\u001b[97m 4 \u001b[33m 0\n",
      "\u001b[97m 5 \u001b[33m 8\n",
      "\u001b[97m 6 \u001b[33m +2\n",
      "\u001b[97m 7 \u001b[32m 4\n",
      "\u001b[97m 8 \u001b[34m 3\n",
      "\u001b[97m 9 \u001b[31m 2\n",
      "\u001b[97m 10 \u001b[31m inv\n",
      "\u001b[97m 11 \u001b[32m 4\n",
      "\u001b[97m Piocher\n",
      "\u001b[31m Dernière carte jouée : 1\n"
     ]
    },
    {
     "name": "stdin",
     "output_type": "stream",
     "text": [
      "Choisissez le numéro d'une carte à poser :  9\n"
     ]
    },
    {
     "name": "stdout",
     "output_type": "stream",
     "text": [
      "------------------------------------------------------------------------------------------------------\n",
      "Au tour de : b\n",
      "\u001b[97m 1 \u001b[33m X\n",
      "\u001b[97m 2 \u001b[33m 4\n",
      "\u001b[97m Piocher\n",
      "\u001b[31m Dernière carte jouée : 2\n"
     ]
    },
    {
     "name": "stdin",
     "output_type": "stream",
     "text": [
      "Choisissez le numéro d'une carte à poser :  P\n"
     ]
    },
    {
     "name": "stdout",
     "output_type": "stream",
     "text": [
      "------------------------------------------------------------------------------------------------------\n",
      "Au tour de : a\n",
      "\u001b[97m 1 \u001b[34m 2\n",
      "\u001b[97m 2 \u001b[33m 7\n",
      "\u001b[97m 3 \u001b[33m 2\n",
      "\u001b[97m 4 \u001b[33m 0\n",
      "\u001b[97m 5 \u001b[33m 8\n",
      "\u001b[97m 6 \u001b[33m +2\n",
      "\u001b[97m 7 \u001b[32m 4\n",
      "\u001b[97m 8 \u001b[34m 3\n",
      "\u001b[97m 9 \u001b[31m inv\n",
      "\u001b[97m 10 \u001b[32m 4\n",
      "\u001b[97m Piocher\n",
      "\u001b[31m Dernière carte jouée : 2\n"
     ]
    },
    {
     "name": "stdin",
     "output_type": "stream",
     "text": [
      "Choisissez le numéro d'une carte à poser :  9\n"
     ]
    },
    {
     "name": "stdout",
     "output_type": "stream",
     "text": [
      "------------------------------------------------------------------------------------------------------\n",
      "Au tour de : b\n",
      "\u001b[97m 1 \u001b[33m X\n",
      "\u001b[97m 2 \u001b[33m 4\n",
      "\u001b[97m 3 \u001b[32m 7\n",
      "\u001b[97m Piocher\n",
      "\u001b[31m Dernière carte jouée : inv\n"
     ]
    },
    {
     "name": "stdin",
     "output_type": "stream",
     "text": [
      "Choisissez le numéro d'une carte à poser :  P\n"
     ]
    },
    {
     "name": "stdout",
     "output_type": "stream",
     "text": [
      "------------------------------------------------------------------------------------------------------\n",
      "Au tour de : a\n",
      "\u001b[97m 1 \u001b[34m 2\n",
      "\u001b[97m 2 \u001b[33m 7\n",
      "\u001b[97m 3 \u001b[33m 2\n",
      "\u001b[97m 4 \u001b[33m 0\n",
      "\u001b[97m 5 \u001b[33m 8\n",
      "\u001b[97m 6 \u001b[33m +2\n",
      "\u001b[97m 7 \u001b[32m 4\n",
      "\u001b[97m 8 \u001b[34m 3\n",
      "\u001b[97m 9 \u001b[32m 4\n",
      "\u001b[97m Piocher\n",
      "\u001b[31m Dernière carte jouée : inv\n"
     ]
    },
    {
     "name": "stdin",
     "output_type": "stream",
     "text": [
      "Choisissez le numéro d'une carte à poser :  P\n"
     ]
    },
    {
     "name": "stdout",
     "output_type": "stream",
     "text": [
      "------------------------------------------------------------------------------------------------------\n",
      "Au tour de : b\n",
      "\u001b[97m 1 \u001b[33m X\n",
      "\u001b[97m 2 \u001b[33m 4\n",
      "\u001b[97m 3 \u001b[32m 7\n",
      "\u001b[97m 4 \u001b[33m 8\n",
      "\u001b[97m Piocher\n",
      "\u001b[31m Dernière carte jouée : inv\n"
     ]
    },
    {
     "name": "stdin",
     "output_type": "stream",
     "text": [
      "Choisissez le numéro d'une carte à poser :  P\n"
     ]
    },
    {
     "name": "stdout",
     "output_type": "stream",
     "text": [
      "------------------------------------------------------------------------------------------------------\n",
      "Au tour de : a\n",
      "\u001b[97m 1 \u001b[34m 2\n",
      "\u001b[97m 2 \u001b[33m 7\n",
      "\u001b[97m 3 \u001b[33m 2\n",
      "\u001b[97m 4 \u001b[33m 0\n",
      "\u001b[97m 5 \u001b[33m 8\n",
      "\u001b[97m 6 \u001b[33m +2\n",
      "\u001b[97m 7 \u001b[32m 4\n",
      "\u001b[97m 8 \u001b[34m 3\n",
      "\u001b[97m 9 \u001b[32m 4\n",
      "\u001b[97m 10 \u001b[34m 7\n",
      "\u001b[97m Piocher\n",
      "\u001b[31m Dernière carte jouée : inv\n"
     ]
    },
    {
     "name": "stdin",
     "output_type": "stream",
     "text": [
      "Choisissez le numéro d'une carte à poser :  P\n"
     ]
    },
    {
     "name": "stdout",
     "output_type": "stream",
     "text": [
      "------------------------------------------------------------------------------------------------------\n",
      "Au tour de : b\n",
      "\u001b[97m 1 \u001b[33m X\n",
      "\u001b[97m 2 \u001b[33m 4\n",
      "\u001b[97m 3 \u001b[32m 7\n",
      "\u001b[97m 4 \u001b[33m 8\n",
      "\u001b[97m 5 \u001b[34m 3\n",
      "\u001b[97m Piocher\n",
      "\u001b[31m Dernière carte jouée : inv\n"
     ]
    },
    {
     "name": "stdin",
     "output_type": "stream",
     "text": [
      "Choisissez le numéro d'une carte à poser :  P\n"
     ]
    },
    {
     "name": "stdout",
     "output_type": "stream",
     "text": [
      "------------------------------------------------------------------------------------------------------\n",
      "Au tour de : a\n",
      "\u001b[97m 1 \u001b[34m 2\n",
      "\u001b[97m 2 \u001b[33m 7\n",
      "\u001b[97m 3 \u001b[33m 2\n",
      "\u001b[97m 4 \u001b[33m 0\n",
      "\u001b[97m 5 \u001b[33m 8\n",
      "\u001b[97m 6 \u001b[33m +2\n",
      "\u001b[97m 7 \u001b[32m 4\n",
      "\u001b[97m 8 \u001b[34m 3\n",
      "\u001b[97m 9 \u001b[32m 4\n",
      "\u001b[97m 10 \u001b[34m 7\n",
      "\u001b[97m 11 \u001b[34m 5\n",
      "\u001b[97m Piocher\n",
      "\u001b[31m Dernière carte jouée : inv\n"
     ]
    },
    {
     "name": "stdin",
     "output_type": "stream",
     "text": [
      "Choisissez le numéro d'une carte à poser :  P\n"
     ]
    },
    {
     "name": "stdout",
     "output_type": "stream",
     "text": [
      "------------------------------------------------------------------------------------------------------\n",
      "Au tour de : b\n",
      "\u001b[97m 1 \u001b[33m X\n",
      "\u001b[97m 2 \u001b[33m 4\n",
      "\u001b[97m 3 \u001b[32m 7\n",
      "\u001b[97m 4 \u001b[33m 8\n",
      "\u001b[97m 5 \u001b[34m 3\n",
      "\u001b[97m 6 \u001b[33m 9\n",
      "\u001b[97m Piocher\n",
      "\u001b[31m Dernière carte jouée : inv\n"
     ]
    },
    {
     "name": "stdin",
     "output_type": "stream",
     "text": [
      "Choisissez le numéro d'une carte à poser :  P\n"
     ]
    },
    {
     "name": "stdout",
     "output_type": "stream",
     "text": [
      "------------------------------------------------------------------------------------------------------\n",
      "Au tour de : a\n",
      "\u001b[97m 1 \u001b[34m 2\n",
      "\u001b[97m 2 \u001b[33m 7\n",
      "\u001b[97m 3 \u001b[33m 2\n",
      "\u001b[97m 4 \u001b[33m 0\n",
      "\u001b[97m 5 \u001b[33m 8\n",
      "\u001b[97m 6 \u001b[33m +2\n",
      "\u001b[97m 7 \u001b[32m 4\n",
      "\u001b[97m 8 \u001b[34m 3\n",
      "\u001b[97m 9 \u001b[32m 4\n",
      "\u001b[97m 10 \u001b[34m 7\n",
      "\u001b[97m 11 \u001b[34m 5\n",
      "\u001b[97m 12 \u001b[32m inv\n",
      "\u001b[97m Piocher\n",
      "\u001b[31m Dernière carte jouée : inv\n"
     ]
    },
    {
     "name": "stdin",
     "output_type": "stream",
     "text": [
      "Choisissez le numéro d'une carte à poser :  12\n"
     ]
    },
    {
     "name": "stdout",
     "output_type": "stream",
     "text": [
      "------------------------------------------------------------------------------------------------------\n",
      "Au tour de : b\n",
      "\u001b[97m 1 \u001b[33m X\n",
      "\u001b[97m 2 \u001b[33m 4\n",
      "\u001b[97m 3 \u001b[32m 7\n",
      "\u001b[97m 4 \u001b[33m 8\n",
      "\u001b[97m 5 \u001b[34m 3\n",
      "\u001b[97m 6 \u001b[33m 9\n",
      "\u001b[97m 7 \u001b[31m 5\n",
      "\u001b[97m Piocher\n",
      "\u001b[32m Dernière carte jouée : inv\n"
     ]
    },
    {
     "name": "stdin",
     "output_type": "stream",
     "text": [
      "Choisissez le numéro d'une carte à poser :  7\n"
     ]
    },
    {
     "name": "stdout",
     "output_type": "stream",
     "text": [
      "------------------------------------------------------------------------------------------------------\n",
      "Vous ne pouvez pas jouer cette carte !\n"
     ]
    },
    {
     "name": "stdin",
     "output_type": "stream",
     "text": [
      "Choisissez le numéro d'une carte à poser :  3\n"
     ]
    },
    {
     "name": "stdout",
     "output_type": "stream",
     "text": [
      "------------------------------------------------------------------------------------------------------\n",
      "Au tour de : a\n",
      "\u001b[97m 1 \u001b[34m 2\n",
      "\u001b[97m 2 \u001b[33m 7\n",
      "\u001b[97m 3 \u001b[33m 2\n",
      "\u001b[97m 4 \u001b[33m 0\n",
      "\u001b[97m 5 \u001b[33m 8\n",
      "\u001b[97m 6 \u001b[33m +2\n",
      "\u001b[97m 7 \u001b[32m 4\n",
      "\u001b[97m 8 \u001b[34m 3\n",
      "\u001b[97m 9 \u001b[32m 4\n",
      "\u001b[97m 10 \u001b[34m 7\n",
      "\u001b[97m 11 \u001b[34m 5\n",
      "\u001b[97m Piocher\n",
      "\u001b[32m Dernière carte jouée : 7\n"
     ]
    },
    {
     "name": "stdin",
     "output_type": "stream",
     "text": [
      "Choisissez le numéro d'une carte à poser :  7\n"
     ]
    },
    {
     "name": "stdout",
     "output_type": "stream",
     "text": [
      "------------------------------------------------------------------------------------------------------\n",
      "Au tour de : b\n",
      "\u001b[97m 1 \u001b[33m X\n",
      "\u001b[97m 2 \u001b[33m 4\n",
      "\u001b[97m 3 \u001b[33m 8\n",
      "\u001b[97m 4 \u001b[34m 3\n",
      "\u001b[97m 5 \u001b[33m 9\n",
      "\u001b[97m 6 \u001b[31m 5\n",
      "\u001b[97m Piocher\n",
      "\u001b[32m Dernière carte jouée : 4\n"
     ]
    },
    {
     "name": "stdin",
     "output_type": "stream",
     "text": [
      "Choisissez le numéro d'une carte à poser :  2\n"
     ]
    },
    {
     "name": "stdout",
     "output_type": "stream",
     "text": [
      "------------------------------------------------------------------------------------------------------\n",
      "Au tour de : a\n",
      "\u001b[97m 1 \u001b[34m 2\n",
      "\u001b[97m 2 \u001b[33m 7\n",
      "\u001b[97m 3 \u001b[33m 2\n",
      "\u001b[97m 4 \u001b[33m 0\n",
      "\u001b[97m 5 \u001b[33m 8\n",
      "\u001b[97m 6 \u001b[33m +2\n",
      "\u001b[97m 7 \u001b[34m 3\n",
      "\u001b[97m 8 \u001b[32m 4\n",
      "\u001b[97m 9 \u001b[34m 7\n",
      "\u001b[97m 10 \u001b[34m 5\n",
      "\u001b[97m Piocher\n",
      "\u001b[33m Dernière carte jouée : 4\n"
     ]
    },
    {
     "name": "stdin",
     "output_type": "stream",
     "text": [
      "Choisissez le numéro d'une carte à poser :  6\n"
     ]
    },
    {
     "name": "stdout",
     "output_type": "stream",
     "text": [
      "------------------------------------------------------------------------------------------------------\n",
      "b a été bloqué !\n",
      "Au tour de : a\n",
      "\u001b[97m 1 \u001b[34m 2\n",
      "\u001b[97m 2 \u001b[33m 7\n",
      "\u001b[97m 3 \u001b[33m 2\n",
      "\u001b[97m 4 \u001b[33m 0\n",
      "\u001b[97m 5 \u001b[33m 8\n",
      "\u001b[97m 6 \u001b[34m 3\n",
      "\u001b[97m 7 \u001b[32m 4\n",
      "\u001b[97m 8 \u001b[34m 7\n",
      "\u001b[97m 9 \u001b[34m 5\n",
      "\u001b[97m Piocher\n",
      "\u001b[33m Dernière carte jouée : +2\n"
     ]
    },
    {
     "name": "stdin",
     "output_type": "stream",
     "text": [
      "Choisissez le numéro d'une carte à poser :  2\n"
     ]
    },
    {
     "name": "stdout",
     "output_type": "stream",
     "text": [
      "------------------------------------------------------------------------------------------------------\n",
      "Au tour de : b\n",
      "\u001b[97m 1 \u001b[33m X\n",
      "\u001b[97m 2 \u001b[33m 8\n",
      "\u001b[97m 3 \u001b[34m 3\n",
      "\u001b[97m 4 \u001b[33m 9\n",
      "\u001b[97m 5 \u001b[31m 5\n",
      "\u001b[97m 6 \u001b[31m 6\n",
      "\u001b[97m 7 \u001b[31m X\n",
      "\u001b[97m Piocher\n",
      "\u001b[33m Dernière carte jouée : 7\n"
     ]
    },
    {
     "name": "stdin",
     "output_type": "stream",
     "text": [
      "Choisissez le numéro d'une carte à poser :  1\n"
     ]
    },
    {
     "name": "stdout",
     "output_type": "stream",
     "text": [
      "------------------------------------------------------------------------------------------------------\n",
      "a a été bloqué !\n",
      "Au tour de : b\n",
      "\u001b[97m 1 \u001b[33m 8\n",
      "\u001b[97m 2 \u001b[34m 3\n",
      "\u001b[97m 3 \u001b[33m 9\n",
      "\u001b[97m 4 \u001b[31m 5\n",
      "\u001b[97m 5 \u001b[31m 6\n",
      "\u001b[97m 6 \u001b[31m X\n",
      "\u001b[97m Piocher\n",
      "\u001b[33m Dernière carte jouée : X\n"
     ]
    },
    {
     "name": "stdin",
     "output_type": "stream",
     "text": [
      "Choisissez le numéro d'une carte à poser :  2\n"
     ]
    },
    {
     "name": "stdout",
     "output_type": "stream",
     "text": [
      "------------------------------------------------------------------------------------------------------\n",
      "Vous ne pouvez pas jouer cette carte !\n"
     ]
    },
    {
     "name": "stdin",
     "output_type": "stream",
     "text": [
      "Choisissez le numéro d'une carte à poser :  1\n"
     ]
    },
    {
     "name": "stdout",
     "output_type": "stream",
     "text": [
      "------------------------------------------------------------------------------------------------------\n",
      "Au tour de : a\n",
      "\u001b[97m 1 \u001b[34m 2\n",
      "\u001b[97m 2 \u001b[33m 2\n",
      "\u001b[97m 3 \u001b[33m 0\n",
      "\u001b[97m 4 \u001b[33m 8\n",
      "\u001b[97m 5 \u001b[34m 3\n",
      "\u001b[97m 6 \u001b[32m 4\n",
      "\u001b[97m 7 \u001b[34m 7\n",
      "\u001b[97m 8 \u001b[34m 5\n",
      "\u001b[97m Piocher\n",
      "\u001b[33m Dernière carte jouée : 8\n"
     ]
    },
    {
     "name": "stdin",
     "output_type": "stream",
     "text": [
      "Choisissez le numéro d'une carte à poser :  2\n"
     ]
    },
    {
     "name": "stdout",
     "output_type": "stream",
     "text": [
      "------------------------------------------------------------------------------------------------------\n",
      "Au tour de : b\n",
      "\u001b[97m 1 \u001b[34m 3\n",
      "\u001b[97m 2 \u001b[33m 9\n",
      "\u001b[97m 3 \u001b[31m 5\n",
      "\u001b[97m 4 \u001b[31m 6\n",
      "\u001b[97m 5 \u001b[31m X\n",
      "\u001b[97m Piocher\n",
      "\u001b[33m Dernière carte jouée : 2\n"
     ]
    },
    {
     "name": "stdin",
     "output_type": "stream",
     "text": [
      "Choisissez le numéro d'une carte à poser :  2\n"
     ]
    },
    {
     "name": "stdout",
     "output_type": "stream",
     "text": [
      "------------------------------------------------------------------------------------------------------\n",
      "Au tour de : a\n",
      "\u001b[97m 1 \u001b[34m 2\n",
      "\u001b[97m 2 \u001b[33m 0\n",
      "\u001b[97m 3 \u001b[33m 8\n",
      "\u001b[97m 4 \u001b[34m 3\n",
      "\u001b[97m 5 \u001b[32m 4\n",
      "\u001b[97m 6 \u001b[34m 7\n",
      "\u001b[97m 7 \u001b[34m 5\n",
      "\u001b[97m Piocher\n",
      "\u001b[33m Dernière carte jouée : 9\n"
     ]
    },
    {
     "name": "stdin",
     "output_type": "stream",
     "text": [
      "Choisissez le numéro d'une carte à poser :  2\n"
     ]
    },
    {
     "name": "stdout",
     "output_type": "stream",
     "text": [
      "------------------------------------------------------------------------------------------------------\n",
      "Au tour de : b\n",
      "\u001b[97m 1 \u001b[34m 3\n",
      "\u001b[97m 2 \u001b[31m 5\n",
      "\u001b[97m 3 \u001b[31m 6\n",
      "\u001b[97m 4 \u001b[31m X\n",
      "\u001b[97m Piocher\n",
      "\u001b[33m Dernière carte jouée : 0\n"
     ]
    },
    {
     "name": "stdin",
     "output_type": "stream",
     "text": [
      "Choisissez le numéro d'une carte à poser :  P\n"
     ]
    },
    {
     "name": "stdout",
     "output_type": "stream",
     "text": [
      "------------------------------------------------------------------------------------------------------\n",
      "Au tour de : a\n",
      "\u001b[97m 1 \u001b[34m 2\n",
      "\u001b[97m 2 \u001b[33m 8\n",
      "\u001b[97m 3 \u001b[34m 3\n",
      "\u001b[97m 4 \u001b[32m 4\n",
      "\u001b[97m 5 \u001b[34m 7\n",
      "\u001b[97m 6 \u001b[34m 5\n",
      "\u001b[97m Piocher\n",
      "\u001b[33m Dernière carte jouée : 0\n"
     ]
    },
    {
     "name": "stdin",
     "output_type": "stream",
     "text": [
      "Choisissez le numéro d'une carte à poser :  2\n"
     ]
    },
    {
     "name": "stdout",
     "output_type": "stream",
     "text": [
      "------------------------------------------------------------------------------------------------------\n",
      "Au tour de : b\n",
      "\u001b[97m 1 \u001b[34m 3\n",
      "\u001b[97m 2 \u001b[31m 5\n",
      "\u001b[97m 3 \u001b[31m 6\n",
      "\u001b[97m 4 \u001b[31m X\n",
      "\u001b[97m 5 \u001b[34m X\n",
      "\u001b[97m Piocher\n",
      "\u001b[33m Dernière carte jouée : 8\n"
     ]
    },
    {
     "name": "stdin",
     "output_type": "stream",
     "text": [
      "Choisissez le numéro d'une carte à poser :  P\n"
     ]
    },
    {
     "name": "stdout",
     "output_type": "stream",
     "text": [
      "------------------------------------------------------------------------------------------------------\n",
      "Au tour de : a\n",
      "\u001b[97m 1 \u001b[34m 2\n",
      "\u001b[97m 2 \u001b[34m 3\n",
      "\u001b[97m 3 \u001b[32m 4\n",
      "\u001b[97m 4 \u001b[34m 7\n",
      "\u001b[97m 5 \u001b[34m 5\n",
      "\u001b[97m Piocher\n",
      "\u001b[33m Dernière carte jouée : 8\n"
     ]
    },
    {
     "name": "stdin",
     "output_type": "stream",
     "text": [
      "Choisissez le numéro d'une carte à poser :  P\n"
     ]
    },
    {
     "name": "stdout",
     "output_type": "stream",
     "text": [
      "------------------------------------------------------------------------------------------------------\n",
      "Au tour de : b\n",
      "\u001b[97m 1 \u001b[34m 3\n",
      "\u001b[97m 2 \u001b[31m 5\n",
      "\u001b[97m 3 \u001b[31m 6\n",
      "\u001b[97m 4 \u001b[31m X\n",
      "\u001b[97m 5 \u001b[34m X\n",
      "\u001b[97m 6 \u001b[34m +2\n",
      "\u001b[97m Piocher\n",
      "\u001b[33m Dernière carte jouée : 8\n"
     ]
    },
    {
     "name": "stdin",
     "output_type": "stream",
     "text": [
      "Choisissez le numéro d'une carte à poser :  P\n"
     ]
    },
    {
     "name": "stdout",
     "output_type": "stream",
     "text": [
      "------------------------------------------------------------------------------------------------------\n",
      "Au tour de : a\n",
      "\u001b[97m 1 \u001b[34m 2\n",
      "\u001b[97m 2 \u001b[34m 3\n",
      "\u001b[97m 3 \u001b[32m 4\n",
      "\u001b[97m 4 \u001b[34m 7\n",
      "\u001b[97m 5 \u001b[34m 5\n",
      "\u001b[97m 6 \u001b[32m 8\n",
      "\u001b[97m Piocher\n",
      "\u001b[33m Dernière carte jouée : 8\n"
     ]
    },
    {
     "name": "stdin",
     "output_type": "stream",
     "text": [
      "Choisissez le numéro d'une carte à poser :  6\n"
     ]
    },
    {
     "name": "stdout",
     "output_type": "stream",
     "text": [
      "------------------------------------------------------------------------------------------------------\n",
      "Au tour de : b\n",
      "\u001b[97m 1 \u001b[34m 3\n",
      "\u001b[97m 2 \u001b[31m 5\n",
      "\u001b[97m 3 \u001b[31m 6\n",
      "\u001b[97m 4 \u001b[31m X\n",
      "\u001b[97m 5 \u001b[34m X\n",
      "\u001b[97m 6 \u001b[34m +2\n",
      "\u001b[97m 7 \u001b[33m X\n",
      "\u001b[97m Piocher\n",
      "\u001b[32m Dernière carte jouée : 8\n"
     ]
    },
    {
     "name": "stdin",
     "output_type": "stream",
     "text": [
      "Choisissez le numéro d'une carte à poser :  P\n"
     ]
    },
    {
     "name": "stdout",
     "output_type": "stream",
     "text": [
      "------------------------------------------------------------------------------------------------------\n",
      "Au tour de : a\n",
      "\u001b[97m 1 \u001b[34m 2\n",
      "\u001b[97m 2 \u001b[34m 3\n",
      "\u001b[97m 3 \u001b[32m 4\n",
      "\u001b[97m 4 \u001b[34m 7\n",
      "\u001b[97m 5 \u001b[34m 5\n",
      "\u001b[97m Piocher\n",
      "\u001b[32m Dernière carte jouée : 8\n"
     ]
    },
    {
     "name": "stdin",
     "output_type": "stream",
     "text": [
      "Choisissez le numéro d'une carte à poser :  3\n"
     ]
    },
    {
     "name": "stdout",
     "output_type": "stream",
     "text": [
      "------------------------------------------------------------------------------------------------------\n",
      "Au tour de : b\n",
      "\u001b[97m 1 \u001b[34m 3\n",
      "\u001b[97m 2 \u001b[31m 5\n",
      "\u001b[97m 3 \u001b[31m 6\n",
      "\u001b[97m 4 \u001b[31m X\n",
      "\u001b[97m 5 \u001b[34m X\n",
      "\u001b[97m 6 \u001b[34m +2\n",
      "\u001b[97m 7 \u001b[33m X\n",
      "\u001b[97m 8 \u001b[34m 4\n",
      "\u001b[97m Piocher\n",
      "\u001b[32m Dernière carte jouée : 4\n"
     ]
    },
    {
     "name": "stdin",
     "output_type": "stream",
     "text": [
      "Choisissez le numéro d'une carte à poser :  8\n"
     ]
    },
    {
     "name": "stdout",
     "output_type": "stream",
     "text": [
      "------------------------------------------------------------------------------------------------------\n",
      "Au tour de : a\n",
      "\u001b[97m 1 \u001b[34m 2\n",
      "\u001b[97m 2 \u001b[34m 3\n",
      "\u001b[97m 3 \u001b[34m 7\n",
      "\u001b[97m 4 \u001b[34m 5\n",
      "\u001b[97m Piocher\n",
      "\u001b[34m Dernière carte jouée : 4\n"
     ]
    },
    {
     "name": "stdin",
     "output_type": "stream",
     "text": [
      "Choisissez le numéro d'une carte à poser :  1\n"
     ]
    },
    {
     "name": "stdout",
     "output_type": "stream",
     "text": [
      "------------------------------------------------------------------------------------------------------\n",
      "Au tour de : b\n",
      "\u001b[97m 1 \u001b[34m 3\n",
      "\u001b[97m 2 \u001b[31m 5\n",
      "\u001b[97m 3 \u001b[31m 6\n",
      "\u001b[97m 4 \u001b[31m X\n",
      "\u001b[97m 5 \u001b[34m X\n",
      "\u001b[97m 6 \u001b[34m +2\n",
      "\u001b[97m 7 \u001b[33m X\n",
      "\u001b[97m Piocher\n",
      "\u001b[34m Dernière carte jouée : 2\n"
     ]
    },
    {
     "name": "stdin",
     "output_type": "stream",
     "text": [
      "Choisissez le numéro d'une carte à poser :  1\n"
     ]
    },
    {
     "name": "stdout",
     "output_type": "stream",
     "text": [
      "------------------------------------------------------------------------------------------------------\n",
      "Au tour de : a\n",
      "\u001b[97m 1 \u001b[34m 3\n",
      "\u001b[97m 2 \u001b[34m 7\n",
      "\u001b[97m 3 \u001b[34m 5\n",
      "\u001b[97m Piocher\n",
      "\u001b[34m Dernière carte jouée : 3\n"
     ]
    },
    {
     "name": "stdin",
     "output_type": "stream",
     "text": [
      "Choisissez le numéro d'une carte à poser :  1\n"
     ]
    },
    {
     "name": "stdout",
     "output_type": "stream",
     "text": [
      "------------------------------------------------------------------------------------------------------\n",
      "Au tour de : b\n",
      "\u001b[97m 1 \u001b[31m 5\n",
      "\u001b[97m 2 \u001b[31m 6\n",
      "\u001b[97m 3 \u001b[31m X\n",
      "\u001b[97m 4 \u001b[34m X\n",
      "\u001b[97m 5 \u001b[34m +2\n",
      "\u001b[97m 6 \u001b[33m X\n",
      "\u001b[97m Piocher\n",
      "\u001b[34m Dernière carte jouée : 3\n"
     ]
    },
    {
     "name": "stdin",
     "output_type": "stream",
     "text": [
      "Choisissez le numéro d'une carte à poser :  4\n"
     ]
    },
    {
     "name": "stdout",
     "output_type": "stream",
     "text": [
      "------------------------------------------------------------------------------------------------------\n",
      "a a été bloqué !\n",
      "Au tour de : b\n",
      "\u001b[97m 1 \u001b[31m 5\n",
      "\u001b[97m 2 \u001b[31m 6\n",
      "\u001b[97m 3 \u001b[31m X\n",
      "\u001b[97m 4 \u001b[34m +2\n",
      "\u001b[97m 5 \u001b[33m X\n",
      "\u001b[97m Piocher\n",
      "\u001b[34m Dernière carte jouée : X\n"
     ]
    },
    {
     "name": "stdin",
     "output_type": "stream",
     "text": [
      "Choisissez le numéro d'une carte à poser :  5\n"
     ]
    },
    {
     "name": "stdout",
     "output_type": "stream",
     "text": [
      "------------------------------------------------------------------------------------------------------\n",
      "a a été bloqué !\n",
      "Au tour de : b\n",
      "\u001b[97m 1 \u001b[31m 5\n",
      "\u001b[97m 2 \u001b[31m 6\n",
      "\u001b[97m 3 \u001b[31m X\n",
      "\u001b[97m 4 \u001b[34m +2\n",
      "\u001b[97m Piocher\n",
      "\u001b[33m Dernière carte jouée : X\n"
     ]
    },
    {
     "name": "stdin",
     "output_type": "stream",
     "text": [
      "Choisissez le numéro d'une carte à poser :  3\n"
     ]
    },
    {
     "name": "stdout",
     "output_type": "stream",
     "text": [
      "------------------------------------------------------------------------------------------------------\n",
      "a a été bloqué !\n",
      "Au tour de : b\n",
      "\u001b[97m 1 \u001b[31m 5\n",
      "\u001b[97m 2 \u001b[31m 6\n",
      "\u001b[97m 3 \u001b[34m +2\n",
      "\u001b[97m Piocher\n",
      "\u001b[31m Dernière carte jouée : X\n"
     ]
    },
    {
     "name": "stdin",
     "output_type": "stream",
     "text": [
      "Choisissez le numéro d'une carte à poser :  1\n"
     ]
    },
    {
     "name": "stdout",
     "output_type": "stream",
     "text": [
      "------------------------------------------------------------------------------------------------------\n",
      "Au tour de : a\n",
      "\u001b[97m 1 \u001b[34m 7\n",
      "\u001b[97m 2 \u001b[34m 5\n",
      "\u001b[97m Piocher\n",
      "\u001b[31m Dernière carte jouée : 5\n"
     ]
    },
    {
     "name": "stdin",
     "output_type": "stream",
     "text": [
      "Choisissez le numéro d'une carte à poser :  2\n"
     ]
    },
    {
     "name": "stdout",
     "output_type": "stream",
     "text": [
      "------------------------------------------------------------------------------------------------------\n",
      "Au tour de : b\n",
      "\u001b[97m 1 \u001b[31m 6\n",
      "\u001b[97m 2 \u001b[34m +2\n",
      "\u001b[97m Piocher\n",
      "\u001b[34m Dernière carte jouée : 5\n"
     ]
    },
    {
     "name": "stdin",
     "output_type": "stream",
     "text": [
      "Choisissez le numéro d'une carte à poser :  2\n"
     ]
    },
    {
     "name": "stdout",
     "output_type": "stream",
     "text": [
      "------------------------------------------------------------------------------------------------------\n",
      "a a été bloqué !\n",
      "Au tour de : b\n",
      "\u001b[97m 1 \u001b[31m 6\n",
      "\u001b[97m Piocher\n",
      "\u001b[34m Dernière carte jouée : +2\n"
     ]
    },
    {
     "name": "stdin",
     "output_type": "stream",
     "text": [
      "Choisissez le numéro d'une carte à poser :  P\n"
     ]
    },
    {
     "name": "stdout",
     "output_type": "stream",
     "text": [
      "------------------------------------------------------------------------------------------------------\n",
      "Au tour de : a\n",
      "\u001b[97m 1 \u001b[34m 7\n",
      "\u001b[97m 2 \u001b[32m +2\n",
      "\u001b[97m 3 \u001b[31m 1\n",
      "\u001b[97m Piocher\n",
      "\u001b[34m Dernière carte jouée : +2\n"
     ]
    },
    {
     "name": "stdin",
     "output_type": "stream",
     "text": [
      "Choisissez le numéro d'une carte à poser :  2\n"
     ]
    },
    {
     "name": "stdout",
     "output_type": "stream",
     "text": [
      "------------------------------------------------------------------------------------------------------\n",
      "b a été bloqué !\n",
      "Au tour de : a\n",
      "\u001b[97m 1 \u001b[34m 7\n",
      "\u001b[97m 2 \u001b[31m 1\n",
      "\u001b[97m Piocher\n",
      "\u001b[32m Dernière carte jouée : +2\n"
     ]
    },
    {
     "name": "stdin",
     "output_type": "stream",
     "text": [
      "Choisissez le numéro d'une carte à poser :  P\n"
     ]
    },
    {
     "name": "stdout",
     "output_type": "stream",
     "text": [
      "------------------------------------------------------------------------------------------------------\n",
      "Au tour de : b\n",
      "\u001b[97m 1 \u001b[31m 6\n",
      "\u001b[97m 2 \u001b[33m inv\n",
      "\u001b[97m 3 \u001b[34m 6\n",
      "\u001b[97m 4 \u001b[34m 2\n",
      "\u001b[97m Piocher\n",
      "\u001b[32m Dernière carte jouée : +2\n"
     ]
    },
    {
     "name": "stdin",
     "output_type": "stream",
     "text": [
      "Choisissez le numéro d'une carte à poser :  P\n"
     ]
    },
    {
     "name": "stdout",
     "output_type": "stream",
     "text": [
      "------------------------------------------------------------------------------------------------------\n",
      "Au tour de : a\n",
      "\u001b[97m 1 \u001b[34m 7\n",
      "\u001b[97m 2 \u001b[31m 1\n",
      "\u001b[97m 3 \u001b[32m 5\n",
      "\u001b[97m Piocher\n",
      "\u001b[32m Dernière carte jouée : +2\n"
     ]
    },
    {
     "name": "stdin",
     "output_type": "stream",
     "text": [
      "Choisissez le numéro d'une carte à poser :  3\n"
     ]
    },
    {
     "name": "stdout",
     "output_type": "stream",
     "text": [
      "------------------------------------------------------------------------------------------------------\n",
      "Au tour de : b\n",
      "\u001b[97m 1 \u001b[31m 6\n",
      "\u001b[97m 2 \u001b[33m inv\n",
      "\u001b[97m 3 \u001b[34m 6\n",
      "\u001b[97m 4 \u001b[34m 2\n",
      "\u001b[97m 5 \u001b[32m +2\n",
      "\u001b[97m Piocher\n",
      "\u001b[32m Dernière carte jouée : 5\n"
     ]
    },
    {
     "name": "stdin",
     "output_type": "stream",
     "text": [
      "Choisissez le numéro d'une carte à poser :  5\n"
     ]
    },
    {
     "name": "stdout",
     "output_type": "stream",
     "text": [
      "------------------------------------------------------------------------------------------------------\n",
      "a a été bloqué !\n",
      "Au tour de : b\n",
      "\u001b[97m 1 \u001b[31m 6\n",
      "\u001b[97m 2 \u001b[33m inv\n",
      "\u001b[97m 3 \u001b[34m 6\n",
      "\u001b[97m 4 \u001b[34m 2\n",
      "\u001b[97m Piocher\n",
      "\u001b[32m Dernière carte jouée : +2\n"
     ]
    },
    {
     "name": "stdin",
     "output_type": "stream",
     "text": [
      "Choisissez le numéro d'une carte à poser :  P\n"
     ]
    },
    {
     "name": "stdout",
     "output_type": "stream",
     "text": [
      "------------------------------------------------------------------------------------------------------\n",
      "Au tour de : a\n",
      "\u001b[97m 1 \u001b[34m 7\n",
      "\u001b[97m 2 \u001b[31m 1\n",
      "\u001b[97m 3 \u001b[34m 0\n",
      "\u001b[97m 4 \u001b[97m +4\n",
      "\u001b[97m Piocher\n",
      "\u001b[32m Dernière carte jouée : +2\n"
     ]
    },
    {
     "name": "stdin",
     "output_type": "stream",
     "text": [
      "Choisissez le numéro d'une carte à poser :  4\n"
     ]
    },
    {
     "name": "stdout",
     "output_type": "stream",
     "text": [
      "------------------------------------------------------------------------------------------------------\n",
      "Liste des couleurs :\n",
      "\u001b[34m BLEU\n",
      "\u001b[31m ROUGE\n",
      "\u001b[33m JAUNE\n",
      "\u001b[32m VERT\n"
     ]
    },
    {
     "name": "stdin",
     "output_type": "stream",
     "text": [
      "Choisissez la prochaine couleur :  BLEU\n"
     ]
    },
    {
     "name": "stdout",
     "output_type": "stream",
     "text": [
      "b a été bloqué !\n",
      "Au tour de : a\n",
      "\u001b[97m 1 \u001b[34m 7\n",
      "\u001b[97m 2 \u001b[31m 1\n",
      "\u001b[97m 3 \u001b[34m 0\n",
      "\u001b[97m Piocher\n",
      "\u001b[34m Dernière carte jouée : +4\n"
     ]
    },
    {
     "name": "stdin",
     "output_type": "stream",
     "text": [
      "Choisissez le numéro d'une carte à poser :  1\n"
     ]
    },
    {
     "name": "stdout",
     "output_type": "stream",
     "text": [
      "------------------------------------------------------------------------------------------------------\n",
      "Au tour de : b\n",
      "\u001b[97m 1 \u001b[31m 6\n",
      "\u001b[97m 2 \u001b[33m inv\n",
      "\u001b[97m 3 \u001b[34m 6\n",
      "\u001b[97m 4 \u001b[34m 2\n",
      "\u001b[97m 5 \u001b[32m 9\n",
      "\u001b[97m 6 \u001b[33m 1\n",
      "\u001b[97m 7 \u001b[33m 4\n",
      "\u001b[97m 8 \u001b[34m 9\n",
      "\u001b[97m 9 \u001b[31m X\n",
      "\u001b[97m Piocher\n",
      "\u001b[34m Dernière carte jouée : 7\n"
     ]
    },
    {
     "name": "stdin",
     "output_type": "stream",
     "text": [
      "Choisissez le numéro d'une carte à poser :  6\n"
     ]
    },
    {
     "name": "stdout",
     "output_type": "stream",
     "text": [
      "------------------------------------------------------------------------------------------------------\n",
      "Vous ne pouvez pas jouer cette carte !\n"
     ]
    },
    {
     "name": "stdin",
     "output_type": "stream",
     "text": [
      "Choisissez le numéro d'une carte à poser :  3\n"
     ]
    },
    {
     "name": "stdout",
     "output_type": "stream",
     "text": [
      "------------------------------------------------------------------------------------------------------\n",
      "Au tour de : a\n",
      "\u001b[97m 1 \u001b[31m 1\n",
      "\u001b[97m 2 \u001b[34m 0\n",
      "\u001b[97m Piocher\n",
      "\u001b[34m Dernière carte jouée : 6\n"
     ]
    },
    {
     "name": "stdin",
     "output_type": "stream",
     "text": [
      "Choisissez le numéro d'une carte à poser :  2\n"
     ]
    },
    {
     "name": "stdout",
     "output_type": "stream",
     "text": [
      "------------------------------------------------------------------------------------------------------\n",
      "Au tour de : b\n",
      "\u001b[97m 1 \u001b[31m 6\n",
      "\u001b[97m 2 \u001b[33m inv\n",
      "\u001b[97m 3 \u001b[34m 2\n",
      "\u001b[97m 4 \u001b[32m 9\n",
      "\u001b[97m 5 \u001b[33m 1\n",
      "\u001b[97m 6 \u001b[33m 4\n",
      "\u001b[97m 7 \u001b[34m 9\n",
      "\u001b[97m 8 \u001b[31m X\n",
      "\u001b[97m Piocher\n",
      "\u001b[34m Dernière carte jouée : 0\n"
     ]
    },
    {
     "name": "stdin",
     "output_type": "stream",
     "text": [
      "Choisissez le numéro d'une carte à poser :  3\n"
     ]
    },
    {
     "name": "stdout",
     "output_type": "stream",
     "text": [
      "------------------------------------------------------------------------------------------------------\n",
      "Au tour de : a\n",
      "\u001b[97m 1 \u001b[31m 1\n",
      "\u001b[97m Piocher\n",
      "\u001b[34m Dernière carte jouée : 2\n"
     ]
    },
    {
     "name": "stdin",
     "output_type": "stream",
     "text": [
      "Choisissez le numéro d'une carte à poser :  P\n"
     ]
    },
    {
     "name": "stdout",
     "output_type": "stream",
     "text": [
      "------------------------------------------------------------------------------------------------------\n",
      "Au tour de : b\n",
      "\u001b[97m 1 \u001b[31m 6\n",
      "\u001b[97m 2 \u001b[33m inv\n",
      "\u001b[97m 3 \u001b[32m 9\n",
      "\u001b[97m 4 \u001b[33m 1\n",
      "\u001b[97m 5 \u001b[33m 4\n",
      "\u001b[97m 6 \u001b[34m 9\n",
      "\u001b[97m 7 \u001b[31m X\n",
      "\u001b[97m Piocher\n",
      "\u001b[34m Dernière carte jouée : 2\n"
     ]
    },
    {
     "name": "stdin",
     "output_type": "stream",
     "text": [
      "Choisissez le numéro d'une carte à poser :  6\n"
     ]
    },
    {
     "name": "stdout",
     "output_type": "stream",
     "text": [
      "------------------------------------------------------------------------------------------------------\n",
      "Au tour de : a\n",
      "\u001b[97m 1 \u001b[31m 1\n",
      "\u001b[97m 2 \u001b[31m +2\n",
      "\u001b[97m Piocher\n",
      "\u001b[34m Dernière carte jouée : 9\n"
     ]
    },
    {
     "name": "stdin",
     "output_type": "stream",
     "text": [
      "Choisissez le numéro d'une carte à poser :  P\n"
     ]
    },
    {
     "name": "stdout",
     "output_type": "stream",
     "text": [
      "------------------------------------------------------------------------------------------------------\n",
      "Au tour de : b\n",
      "\u001b[97m 1 \u001b[31m 6\n",
      "\u001b[97m 2 \u001b[33m inv\n",
      "\u001b[97m 3 \u001b[32m 9\n",
      "\u001b[97m 4 \u001b[33m 1\n",
      "\u001b[97m 5 \u001b[33m 4\n",
      "\u001b[97m 6 \u001b[31m X\n",
      "\u001b[97m Piocher\n",
      "\u001b[34m Dernière carte jouée : 9\n"
     ]
    },
    {
     "name": "stdin",
     "output_type": "stream",
     "text": [
      "Choisissez le numéro d'une carte à poser :  3\n"
     ]
    },
    {
     "name": "stdout",
     "output_type": "stream",
     "text": [
      "------------------------------------------------------------------------------------------------------\n",
      "Au tour de : a\n",
      "\u001b[97m 1 \u001b[31m 1\n",
      "\u001b[97m 2 \u001b[31m +2\n",
      "\u001b[97m 3 \u001b[33m 6\n",
      "\u001b[97m Piocher\n",
      "\u001b[32m Dernière carte jouée : 9\n"
     ]
    },
    {
     "name": "stdin",
     "output_type": "stream",
     "text": [
      "Choisissez le numéro d'une carte à poser :  P\n"
     ]
    },
    {
     "name": "stdout",
     "output_type": "stream",
     "text": [
      "------------------------------------------------------------------------------------------------------\n",
      "Au tour de : b\n",
      "\u001b[97m 1 \u001b[31m 6\n",
      "\u001b[97m 2 \u001b[33m inv\n",
      "\u001b[97m 3 \u001b[33m 1\n",
      "\u001b[97m 4 \u001b[33m 4\n",
      "\u001b[97m 5 \u001b[31m X\n",
      "\u001b[97m Piocher\n",
      "\u001b[32m Dernière carte jouée : 9\n"
     ]
    },
    {
     "name": "stdin",
     "output_type": "stream",
     "text": [
      "Choisissez le numéro d'une carte à poser :  P\n"
     ]
    },
    {
     "name": "stdout",
     "output_type": "stream",
     "text": [
      "------------------------------------------------------------------------------------------------------\n",
      "Au tour de : a\n",
      "\u001b[97m 1 \u001b[31m 1\n",
      "\u001b[97m 2 \u001b[31m +2\n",
      "\u001b[97m 3 \u001b[33m 6\n",
      "\u001b[97m 4 \u001b[34m 1\n",
      "\u001b[97m Piocher\n",
      "\u001b[32m Dernière carte jouée : 9\n"
     ]
    },
    {
     "name": "stdin",
     "output_type": "stream",
     "text": [
      "Choisissez le numéro d'une carte à poser :  P\n"
     ]
    },
    {
     "name": "stdout",
     "output_type": "stream",
     "text": [
      "------------------------------------------------------------------------------------------------------\n",
      "Au tour de : b\n",
      "\u001b[97m 1 \u001b[31m 6\n",
      "\u001b[97m 2 \u001b[33m inv\n",
      "\u001b[97m 3 \u001b[33m 1\n",
      "\u001b[97m 4 \u001b[33m 4\n",
      "\u001b[97m 5 \u001b[31m X\n",
      "\u001b[97m 6 \u001b[31m 8\n",
      "\u001b[97m Piocher\n",
      "\u001b[32m Dernière carte jouée : 9\n"
     ]
    },
    {
     "name": "stdin",
     "output_type": "stream",
     "text": [
      "Choisissez le numéro d'une carte à poser :  P\n"
     ]
    },
    {
     "name": "stdout",
     "output_type": "stream",
     "text": [
      "------------------------------------------------------------------------------------------------------\n",
      "Au tour de : a\n",
      "\u001b[97m 1 \u001b[31m 1\n",
      "\u001b[97m 2 \u001b[31m +2\n",
      "\u001b[97m 3 \u001b[33m 6\n",
      "\u001b[97m 4 \u001b[34m 1\n",
      "\u001b[97m 5 \u001b[34m X\n",
      "\u001b[97m Piocher\n",
      "\u001b[32m Dernière carte jouée : 9\n"
     ]
    },
    {
     "name": "stdin",
     "output_type": "stream",
     "text": [
      "Choisissez le numéro d'une carte à poser :  P\n"
     ]
    },
    {
     "name": "stdout",
     "output_type": "stream",
     "text": [
      "------------------------------------------------------------------------------------------------------\n",
      "Au tour de : b\n",
      "\u001b[97m 1 \u001b[31m 6\n",
      "\u001b[97m 2 \u001b[33m inv\n",
      "\u001b[97m 3 \u001b[33m 1\n",
      "\u001b[97m 4 \u001b[33m 4\n",
      "\u001b[97m 5 \u001b[31m X\n",
      "\u001b[97m 6 \u001b[31m 8\n",
      "\u001b[97m 7 \u001b[31m 3\n",
      "\u001b[97m Piocher\n",
      "\u001b[32m Dernière carte jouée : 9\n"
     ]
    },
    {
     "name": "stdin",
     "output_type": "stream",
     "text": [
      "Choisissez le numéro d'une carte à poser :  P\n"
     ]
    },
    {
     "name": "stdout",
     "output_type": "stream",
     "text": [
      "------------------------------------------------------------------------------------------------------\n",
      "Au tour de : a\n",
      "\u001b[97m 1 \u001b[31m 1\n",
      "\u001b[97m 2 \u001b[31m +2\n",
      "\u001b[97m 3 \u001b[33m 6\n",
      "\u001b[97m 4 \u001b[34m 1\n",
      "\u001b[97m 5 \u001b[34m X\n",
      "\u001b[97m 6 \u001b[31m inv\n",
      "\u001b[97m Piocher\n",
      "\u001b[32m Dernière carte jouée : 9\n"
     ]
    },
    {
     "name": "stdin",
     "output_type": "stream",
     "text": [
      "Choisissez le numéro d'une carte à poser :  P\n"
     ]
    },
    {
     "name": "stdout",
     "output_type": "stream",
     "text": [
      "------------------------------------------------------------------------------------------------------\n",
      "Au tour de : b\n",
      "\u001b[97m 1 \u001b[31m 6\n",
      "\u001b[97m 2 \u001b[33m inv\n",
      "\u001b[97m 3 \u001b[33m 1\n",
      "\u001b[97m 4 \u001b[33m 4\n",
      "\u001b[97m 5 \u001b[31m X\n",
      "\u001b[97m 6 \u001b[31m 8\n",
      "\u001b[97m 7 \u001b[31m 3\n",
      "\u001b[97m 8 \u001b[32m 1\n",
      "\u001b[97m Piocher\n",
      "\u001b[32m Dernière carte jouée : 9\n"
     ]
    },
    {
     "name": "stdin",
     "output_type": "stream",
     "text": [
      "Choisissez le numéro d'une carte à poser :  8\n"
     ]
    },
    {
     "name": "stdout",
     "output_type": "stream",
     "text": [
      "------------------------------------------------------------------------------------------------------\n",
      "Au tour de : a\n",
      "\u001b[97m 1 \u001b[31m 1\n",
      "\u001b[97m 2 \u001b[31m +2\n",
      "\u001b[97m 3 \u001b[33m 6\n",
      "\u001b[97m 4 \u001b[34m 1\n",
      "\u001b[97m 5 \u001b[34m X\n",
      "\u001b[97m 6 \u001b[31m inv\n",
      "\u001b[97m 7 \u001b[31m 4\n",
      "\u001b[97m Piocher\n",
      "\u001b[32m Dernière carte jouée : 1\n"
     ]
    },
    {
     "name": "stdin",
     "output_type": "stream",
     "text": [
      "Choisissez le numéro d'une carte à poser :  1\n"
     ]
    },
    {
     "name": "stdout",
     "output_type": "stream",
     "text": [
      "------------------------------------------------------------------------------------------------------\n",
      "Au tour de : b\n",
      "\u001b[97m 1 \u001b[31m 6\n",
      "\u001b[97m 2 \u001b[33m inv\n",
      "\u001b[97m 3 \u001b[33m 1\n",
      "\u001b[97m 4 \u001b[33m 4\n",
      "\u001b[97m 5 \u001b[31m X\n",
      "\u001b[97m 6 \u001b[31m 8\n",
      "\u001b[97m 7 \u001b[31m 3\n",
      "\u001b[97m Piocher\n",
      "\u001b[31m Dernière carte jouée : 1\n"
     ]
    },
    {
     "name": "stdin",
     "output_type": "stream",
     "text": [
      "Choisissez le numéro d'une carte à poser :  1\n"
     ]
    },
    {
     "name": "stdout",
     "output_type": "stream",
     "text": [
      "------------------------------------------------------------------------------------------------------\n",
      "Au tour de : a\n",
      "\u001b[97m 1 \u001b[31m +2\n",
      "\u001b[97m 2 \u001b[33m 6\n",
      "\u001b[97m 3 \u001b[34m 1\n",
      "\u001b[97m 4 \u001b[34m X\n",
      "\u001b[97m 5 \u001b[31m inv\n",
      "\u001b[97m 6 \u001b[31m 4\n",
      "\u001b[97m Piocher\n",
      "\u001b[31m Dernière carte jouée : 6\n"
     ]
    },
    {
     "name": "stdin",
     "output_type": "stream",
     "text": [
      "Choisissez le numéro d'une carte à poser :  5\n"
     ]
    },
    {
     "name": "stdout",
     "output_type": "stream",
     "text": [
      "------------------------------------------------------------------------------------------------------\n",
      "Au tour de : b\n",
      "\u001b[97m 1 \u001b[33m inv\n",
      "\u001b[97m 2 \u001b[33m 1\n",
      "\u001b[97m 3 \u001b[33m 4\n",
      "\u001b[97m 4 \u001b[31m X\n",
      "\u001b[97m 5 \u001b[31m 8\n",
      "\u001b[97m 6 \u001b[31m 3\n",
      "\u001b[97m Piocher\n",
      "\u001b[31m Dernière carte jouée : inv\n"
     ]
    },
    {
     "name": "stdin",
     "output_type": "stream",
     "text": [
      "Choisissez le numéro d'une carte à poser :  4\n"
     ]
    },
    {
     "name": "stdout",
     "output_type": "stream",
     "text": [
      "------------------------------------------------------------------------------------------------------\n",
      "a a été bloqué !\n",
      "Au tour de : b\n",
      "\u001b[97m 1 \u001b[33m inv\n",
      "\u001b[97m 2 \u001b[33m 1\n",
      "\u001b[97m 3 \u001b[33m 4\n",
      "\u001b[97m 4 \u001b[31m 8\n",
      "\u001b[97m 5 \u001b[31m 3\n",
      "\u001b[97m Piocher\n",
      "\u001b[31m Dernière carte jouée : X\n"
     ]
    },
    {
     "name": "stdin",
     "output_type": "stream",
     "text": [
      "Choisissez le numéro d'une carte à poser :  4\n"
     ]
    },
    {
     "name": "stdout",
     "output_type": "stream",
     "text": [
      "------------------------------------------------------------------------------------------------------\n",
      "Au tour de : a\n",
      "\u001b[97m 1 \u001b[31m +2\n",
      "\u001b[97m 2 \u001b[33m 6\n",
      "\u001b[97m 3 \u001b[34m 1\n",
      "\u001b[97m 4 \u001b[34m X\n",
      "\u001b[97m 5 \u001b[31m 4\n",
      "\u001b[97m Piocher\n",
      "\u001b[31m Dernière carte jouée : 8\n"
     ]
    },
    {
     "name": "stdin",
     "output_type": "stream",
     "text": [
      "Choisissez le numéro d'une carte à poser :  1\n"
     ]
    },
    {
     "name": "stdout",
     "output_type": "stream",
     "text": [
      "------------------------------------------------------------------------------------------------------\n",
      "b a été bloqué !\n",
      "Au tour de : a\n",
      "\u001b[97m 1 \u001b[33m 6\n",
      "\u001b[97m 2 \u001b[34m 1\n",
      "\u001b[97m 3 \u001b[34m X\n",
      "\u001b[97m 4 \u001b[31m 4\n",
      "\u001b[97m Piocher\n",
      "\u001b[31m Dernière carte jouée : +2\n"
     ]
    },
    {
     "name": "stdin",
     "output_type": "stream",
     "text": [
      "Choisissez le numéro d'une carte à poser :  4\n"
     ]
    },
    {
     "name": "stdout",
     "output_type": "stream",
     "text": [
      "------------------------------------------------------------------------------------------------------\n",
      "Au tour de : b\n",
      "\u001b[97m 1 \u001b[33m inv\n",
      "\u001b[97m 2 \u001b[33m 1\n",
      "\u001b[97m 3 \u001b[33m 4\n",
      "\u001b[97m 4 \u001b[31m 3\n",
      "\u001b[97m 5 \u001b[34m 4\n",
      "\u001b[97m 6 \u001b[31m 2\n",
      "\u001b[97m Piocher\n",
      "\u001b[31m Dernière carte jouée : 4\n"
     ]
    },
    {
     "name": "stdin",
     "output_type": "stream",
     "text": [
      "Choisissez le numéro d'une carte à poser :  4\n"
     ]
    },
    {
     "name": "stdout",
     "output_type": "stream",
     "text": [
      "------------------------------------------------------------------------------------------------------\n",
      "Au tour de : a\n",
      "\u001b[97m 1 \u001b[33m 6\n",
      "\u001b[97m 2 \u001b[34m 1\n",
      "\u001b[97m 3 \u001b[34m X\n",
      "\u001b[97m Piocher\n",
      "\u001b[31m Dernière carte jouée : 3\n"
     ]
    },
    {
     "name": "stdin",
     "output_type": "stream",
     "text": [
      "Choisissez le numéro d'une carte à poser :  P\n"
     ]
    },
    {
     "name": "stdout",
     "output_type": "stream",
     "text": [
      "------------------------------------------------------------------------------------------------------\n",
      "Au tour de : b\n",
      "\u001b[97m 1 \u001b[33m inv\n",
      "\u001b[97m 2 \u001b[33m 1\n",
      "\u001b[97m 3 \u001b[33m 4\n",
      "\u001b[97m 4 \u001b[34m 4\n",
      "\u001b[97m 5 \u001b[31m 2\n",
      "\u001b[97m Piocher\n",
      "\u001b[31m Dernière carte jouée : 3\n"
     ]
    },
    {
     "name": "stdin",
     "output_type": "stream",
     "text": [
      "Choisissez le numéro d'une carte à poser :  5\n"
     ]
    },
    {
     "name": "stdout",
     "output_type": "stream",
     "text": [
      "------------------------------------------------------------------------------------------------------\n",
      "Au tour de : a\n",
      "\u001b[97m 1 \u001b[33m 6\n",
      "\u001b[97m 2 \u001b[34m 1\n",
      "\u001b[97m 3 \u001b[34m X\n",
      "\u001b[97m 4 \u001b[31m 8\n",
      "\u001b[97m Piocher\n",
      "\u001b[31m Dernière carte jouée : 2\n"
     ]
    },
    {
     "name": "stdin",
     "output_type": "stream",
     "text": [
      "Choisissez le numéro d'une carte à poser :  4\n"
     ]
    },
    {
     "name": "stdout",
     "output_type": "stream",
     "text": [
      "------------------------------------------------------------------------------------------------------\n",
      "Au tour de : b\n",
      "\u001b[97m 1 \u001b[33m inv\n",
      "\u001b[97m 2 \u001b[33m 1\n",
      "\u001b[97m 3 \u001b[33m 4\n",
      "\u001b[97m 4 \u001b[34m 4\n",
      "\u001b[97m Piocher\n",
      "\u001b[31m Dernière carte jouée : 8\n"
     ]
    },
    {
     "name": "stdin",
     "output_type": "stream",
     "text": [
      "Choisissez le numéro d'une carte à poser :  P\n"
     ]
    },
    {
     "name": "stdout",
     "output_type": "stream",
     "text": [
      "------------------------------------------------------------------------------------------------------\n",
      "Au tour de : a\n",
      "\u001b[97m 1 \u001b[33m 6\n",
      "\u001b[97m 2 \u001b[34m 1\n",
      "\u001b[97m 3 \u001b[34m X\n",
      "\u001b[97m Piocher\n",
      "\u001b[31m Dernière carte jouée : 8\n"
     ]
    },
    {
     "name": "stdin",
     "output_type": "stream",
     "text": [
      "Choisissez le numéro d'une carte à poser :  P\n"
     ]
    },
    {
     "name": "stdout",
     "output_type": "stream",
     "text": [
      "------------------------------------------------------------------------------------------------------\n",
      "Au tour de : b\n",
      "\u001b[97m 1 \u001b[33m inv\n",
      "\u001b[97m 2 \u001b[33m 1\n",
      "\u001b[97m 3 \u001b[33m 4\n",
      "\u001b[97m 4 \u001b[34m 4\n",
      "\u001b[97m 5 \u001b[32m 9\n",
      "\u001b[97m Piocher\n",
      "\u001b[31m Dernière carte jouée : 8\n"
     ]
    },
    {
     "name": "stdin",
     "output_type": "stream",
     "text": [
      "Choisissez le numéro d'une carte à poser :  P\n"
     ]
    },
    {
     "name": "stdout",
     "output_type": "stream",
     "text": [
      "------------------------------------------------------------------------------------------------------\n",
      "Au tour de : a\n",
      "\u001b[97m 1 \u001b[33m 6\n",
      "\u001b[97m 2 \u001b[34m 1\n",
      "\u001b[97m 3 \u001b[34m X\n",
      "\u001b[97m 4 \u001b[32m 3\n",
      "\u001b[97m Piocher\n",
      "\u001b[31m Dernière carte jouée : 8\n"
     ]
    },
    {
     "name": "stdin",
     "output_type": "stream",
     "text": [
      "Choisissez le numéro d'une carte à poser :  P\n"
     ]
    },
    {
     "name": "stdout",
     "output_type": "stream",
     "text": [
      "------------------------------------------------------------------------------------------------------\n",
      "Au tour de : b\n",
      "\u001b[97m 1 \u001b[33m inv\n",
      "\u001b[97m 2 \u001b[33m 1\n",
      "\u001b[97m 3 \u001b[33m 4\n",
      "\u001b[97m 4 \u001b[34m 4\n",
      "\u001b[97m 5 \u001b[32m 9\n",
      "\u001b[97m 6 \u001b[32m 0\n",
      "\u001b[97m Piocher\n",
      "\u001b[31m Dernière carte jouée : 8\n"
     ]
    },
    {
     "name": "stdin",
     "output_type": "stream",
     "text": [
      "Choisissez le numéro d'une carte à poser :  P\n"
     ]
    },
    {
     "name": "stdout",
     "output_type": "stream",
     "text": [
      "------------------------------------------------------------------------------------------------------\n",
      "Au tour de : a\n",
      "\u001b[97m 1 \u001b[33m 6\n",
      "\u001b[97m 2 \u001b[34m 1\n",
      "\u001b[97m 3 \u001b[34m X\n",
      "\u001b[97m 4 \u001b[32m 3\n",
      "\u001b[97m 5 \u001b[34m 7\n",
      "\u001b[97m Piocher\n",
      "\u001b[31m Dernière carte jouée : 8\n"
     ]
    },
    {
     "name": "stdin",
     "output_type": "stream",
     "text": [
      "Choisissez le numéro d'une carte à poser :  P\n"
     ]
    },
    {
     "name": "stdout",
     "output_type": "stream",
     "text": [
      "------------------------------------------------------------------------------------------------------\n",
      "Au tour de : b\n",
      "\u001b[97m 1 \u001b[33m inv\n",
      "\u001b[97m 2 \u001b[33m 1\n",
      "\u001b[97m 3 \u001b[33m 4\n",
      "\u001b[97m 4 \u001b[34m 4\n",
      "\u001b[97m 5 \u001b[32m 9\n",
      "\u001b[97m 6 \u001b[32m 0\n",
      "\u001b[97m 7 \u001b[32m X\n",
      "\u001b[97m Piocher\n",
      "\u001b[31m Dernière carte jouée : 8\n"
     ]
    },
    {
     "name": "stdin",
     "output_type": "stream",
     "text": [
      "Choisissez le numéro d'une carte à poser :  P\n"
     ]
    },
    {
     "name": "stdout",
     "output_type": "stream",
     "text": [
      "------------------------------------------------------------------------------------------------------\n",
      "Au tour de : a\n",
      "\u001b[97m 1 \u001b[33m 6\n",
      "\u001b[97m 2 \u001b[34m 1\n",
      "\u001b[97m 3 \u001b[34m X\n",
      "\u001b[97m 4 \u001b[32m 3\n",
      "\u001b[97m 5 \u001b[34m 7\n",
      "\u001b[97m 6 \u001b[31m +2\n",
      "\u001b[97m Piocher\n",
      "\u001b[31m Dernière carte jouée : 8\n"
     ]
    },
    {
     "name": "stdin",
     "output_type": "stream",
     "text": [
      "Choisissez le numéro d'une carte à poser :  6\n"
     ]
    },
    {
     "name": "stdout",
     "output_type": "stream",
     "text": [
      "------------------------------------------------------------------------------------------------------\n",
      "b a été bloqué !\n",
      "Au tour de : a\n",
      "\u001b[97m 1 \u001b[33m 6\n",
      "\u001b[97m 2 \u001b[34m 1\n",
      "\u001b[97m 3 \u001b[34m X\n",
      "\u001b[97m 4 \u001b[32m 3\n",
      "\u001b[97m 5 \u001b[34m 7\n",
      "\u001b[97m Piocher\n",
      "\u001b[31m Dernière carte jouée : +2\n"
     ]
    },
    {
     "name": "stdin",
     "output_type": "stream",
     "text": [
      "Choisissez le numéro d'une carte à poser :  P\n"
     ]
    },
    {
     "name": "stdout",
     "output_type": "stream",
     "text": [
      "------------------------------------------------------------------------------------------------------\n",
      "Au tour de : b\n",
      "\u001b[97m 1 \u001b[33m inv\n",
      "\u001b[97m 2 \u001b[33m 1\n",
      "\u001b[97m 3 \u001b[33m 4\n",
      "\u001b[97m 4 \u001b[34m 4\n",
      "\u001b[97m 5 \u001b[32m 9\n",
      "\u001b[97m 6 \u001b[32m 0\n",
      "\u001b[97m 7 \u001b[32m X\n",
      "\u001b[97m 8 \u001b[31m 0\n",
      "\u001b[97m 9 \u001b[97m +4\n",
      "\u001b[97m 10 \u001b[33m 5\n",
      "\u001b[97m Piocher\n",
      "\u001b[31m Dernière carte jouée : +2\n"
     ]
    },
    {
     "name": "stdin",
     "output_type": "stream",
     "text": [
      "Choisissez le numéro d'une carte à poser :  8\n"
     ]
    },
    {
     "name": "stdout",
     "output_type": "stream",
     "text": [
      "------------------------------------------------------------------------------------------------------\n",
      "Au tour de : a\n",
      "\u001b[97m 1 \u001b[33m 6\n",
      "\u001b[97m 2 \u001b[34m 1\n",
      "\u001b[97m 3 \u001b[34m X\n",
      "\u001b[97m 4 \u001b[32m 3\n",
      "\u001b[97m 5 \u001b[34m 7\n",
      "\u001b[97m 6 \u001b[34m 8\n",
      "\u001b[97m Piocher\n",
      "\u001b[31m Dernière carte jouée : 0\n"
     ]
    },
    {
     "name": "stdin",
     "output_type": "stream",
     "text": [
      "Choisissez le numéro d'une carte à poser :  P\n"
     ]
    },
    {
     "name": "stdout",
     "output_type": "stream",
     "text": [
      "------------------------------------------------------------------------------------------------------\n",
      "Au tour de : b\n",
      "\u001b[97m 1 \u001b[33m inv\n",
      "\u001b[97m 2 \u001b[33m 1\n",
      "\u001b[97m 3 \u001b[33m 4\n",
      "\u001b[97m 4 \u001b[34m 4\n",
      "\u001b[97m 5 \u001b[32m 9\n",
      "\u001b[97m 6 \u001b[32m 0\n",
      "\u001b[97m 7 \u001b[32m X\n",
      "\u001b[97m 8 \u001b[97m +4\n",
      "\u001b[97m 9 \u001b[33m 5\n",
      "\u001b[97m Piocher\n",
      "\u001b[31m Dernière carte jouée : 0\n"
     ]
    },
    {
     "name": "stdin",
     "output_type": "stream",
     "text": [
      "Choisissez le numéro d'une carte à poser :  8\n"
     ]
    },
    {
     "name": "stdout",
     "output_type": "stream",
     "text": [
      "------------------------------------------------------------------------------------------------------\n",
      "Liste des couleurs :\n",
      "\u001b[34m BLEU\n",
      "\u001b[31m ROUGE\n",
      "\u001b[33m JAUNE\n",
      "\u001b[32m VERT\n"
     ]
    },
    {
     "name": "stdin",
     "output_type": "stream",
     "text": [
      "Choisissez la prochaine couleur :  JAUNE\n"
     ]
    },
    {
     "name": "stdout",
     "output_type": "stream",
     "text": [
      "a a été bloqué !\n",
      "Au tour de : b\n",
      "\u001b[97m 1 \u001b[33m inv\n",
      "\u001b[97m 2 \u001b[33m 1\n",
      "\u001b[97m 3 \u001b[33m 4\n",
      "\u001b[97m 4 \u001b[34m 4\n",
      "\u001b[97m 5 \u001b[32m 9\n",
      "\u001b[97m 6 \u001b[32m 0\n",
      "\u001b[97m 7 \u001b[32m X\n",
      "\u001b[97m 8 \u001b[33m 5\n",
      "\u001b[97m Piocher\n",
      "\u001b[33m Dernière carte jouée : +4\n"
     ]
    },
    {
     "name": "stdin",
     "output_type": "stream",
     "text": [
      "Choisissez le numéro d'une carte à poser :  1\n"
     ]
    },
    {
     "name": "stdout",
     "output_type": "stream",
     "text": [
      "------------------------------------------------------------------------------------------------------\n",
      "Au tour de : a\n",
      "\u001b[97m 1 \u001b[33m 6\n",
      "\u001b[97m 2 \u001b[34m 1\n",
      "\u001b[97m 3 \u001b[34m X\n",
      "\u001b[97m 4 \u001b[32m 3\n",
      "\u001b[97m 5 \u001b[34m 7\n",
      "\u001b[97m 6 \u001b[34m 8\n",
      "\u001b[97m 7 \u001b[34m inv\n",
      "\u001b[97m 8 \u001b[32m 8\n",
      "\u001b[97m 9 \u001b[34m 6\n",
      "\u001b[97m 10 \u001b[31m 9\n",
      "\u001b[97m 11 \u001b[32m inv\n",
      "\u001b[97m Piocher\n",
      "\u001b[33m Dernière carte jouée : inv\n"
     ]
    },
    {
     "name": "stdin",
     "output_type": "stream",
     "text": [
      "Choisissez le numéro d'une carte à poser :  1\n"
     ]
    },
    {
     "name": "stdout",
     "output_type": "stream",
     "text": [
      "------------------------------------------------------------------------------------------------------\n",
      "Au tour de : b\n",
      "\u001b[97m 1 \u001b[33m 1\n",
      "\u001b[97m 2 \u001b[33m 4\n",
      "\u001b[97m 3 \u001b[34m 4\n",
      "\u001b[97m 4 \u001b[32m 9\n",
      "\u001b[97m 5 \u001b[32m 0\n",
      "\u001b[97m 6 \u001b[32m X\n",
      "\u001b[97m 7 \u001b[33m 5\n",
      "\u001b[97m Piocher\n",
      "\u001b[33m Dernière carte jouée : 6\n"
     ]
    },
    {
     "name": "stdin",
     "output_type": "stream",
     "text": [
      "Choisissez le numéro d'une carte à poser :  1\n"
     ]
    },
    {
     "name": "stdout",
     "output_type": "stream",
     "text": [
      "------------------------------------------------------------------------------------------------------\n",
      "Au tour de : a\n",
      "\u001b[97m 1 \u001b[34m 1\n",
      "\u001b[97m 2 \u001b[34m X\n",
      "\u001b[97m 3 \u001b[32m 3\n",
      "\u001b[97m 4 \u001b[34m 7\n",
      "\u001b[97m 5 \u001b[34m 8\n",
      "\u001b[97m 6 \u001b[34m inv\n",
      "\u001b[97m 7 \u001b[32m 8\n",
      "\u001b[97m 8 \u001b[34m 6\n",
      "\u001b[97m 9 \u001b[31m 9\n",
      "\u001b[97m 10 \u001b[32m inv\n",
      "\u001b[97m Piocher\n",
      "\u001b[33m Dernière carte jouée : 1\n"
     ]
    },
    {
     "name": "stdin",
     "output_type": "stream",
     "text": [
      "Choisissez le numéro d'une carte à poser :  1\n"
     ]
    },
    {
     "name": "stdout",
     "output_type": "stream",
     "text": [
      "------------------------------------------------------------------------------------------------------\n",
      "Au tour de : b\n",
      "\u001b[97m 1 \u001b[33m 4\n",
      "\u001b[97m 2 \u001b[34m 4\n",
      "\u001b[97m 3 \u001b[32m 9\n",
      "\u001b[97m 4 \u001b[32m 0\n",
      "\u001b[97m 5 \u001b[32m X\n",
      "\u001b[97m 6 \u001b[33m 5\n",
      "\u001b[97m Piocher\n",
      "\u001b[34m Dernière carte jouée : 1\n"
     ]
    },
    {
     "name": "stdin",
     "output_type": "stream",
     "text": [
      "Choisissez le numéro d'une carte à poser :  2\n"
     ]
    },
    {
     "name": "stdout",
     "output_type": "stream",
     "text": [
      "------------------------------------------------------------------------------------------------------\n",
      "Au tour de : a\n",
      "\u001b[97m 1 \u001b[34m X\n",
      "\u001b[97m 2 \u001b[32m 3\n",
      "\u001b[97m 3 \u001b[34m 7\n",
      "\u001b[97m 4 \u001b[34m 8\n",
      "\u001b[97m 5 \u001b[34m inv\n",
      "\u001b[97m 6 \u001b[32m 8\n",
      "\u001b[97m 7 \u001b[34m 6\n",
      "\u001b[97m 8 \u001b[31m 9\n",
      "\u001b[97m 9 \u001b[32m inv\n",
      "\u001b[97m Piocher\n",
      "\u001b[34m Dernière carte jouée : 4\n"
     ]
    },
    {
     "name": "stdin",
     "output_type": "stream",
     "text": [
      "Choisissez le numéro d'une carte à poser :  1\n"
     ]
    },
    {
     "name": "stdout",
     "output_type": "stream",
     "text": [
      "------------------------------------------------------------------------------------------------------\n",
      "b a été bloqué !\n",
      "Au tour de : a\n",
      "\u001b[97m 1 \u001b[32m 3\n",
      "\u001b[97m 2 \u001b[34m 7\n",
      "\u001b[97m 3 \u001b[34m 8\n",
      "\u001b[97m 4 \u001b[34m inv\n",
      "\u001b[97m 5 \u001b[32m 8\n",
      "\u001b[97m 6 \u001b[34m 6\n",
      "\u001b[97m 7 \u001b[31m 9\n",
      "\u001b[97m 8 \u001b[32m inv\n",
      "\u001b[97m Piocher\n",
      "\u001b[34m Dernière carte jouée : X\n"
     ]
    },
    {
     "name": "stdin",
     "output_type": "stream",
     "text": [
      "Choisissez le numéro d'une carte à poser :  2\n"
     ]
    },
    {
     "name": "stdout",
     "output_type": "stream",
     "text": [
      "------------------------------------------------------------------------------------------------------\n",
      "Au tour de : b\n",
      "\u001b[97m 1 \u001b[33m 4\n",
      "\u001b[97m 2 \u001b[32m 9\n",
      "\u001b[97m 3 \u001b[32m 0\n",
      "\u001b[97m 4 \u001b[32m X\n",
      "\u001b[97m 5 \u001b[33m 5\n",
      "\u001b[97m Piocher\n",
      "\u001b[34m Dernière carte jouée : 7\n"
     ]
    },
    {
     "name": "stdin",
     "output_type": "stream",
     "text": [
      "Choisissez le numéro d'une carte à poser :  P\n"
     ]
    },
    {
     "name": "stdout",
     "output_type": "stream",
     "text": [
      "------------------------------------------------------------------------------------------------------\n",
      "Au tour de : a\n",
      "\u001b[97m 1 \u001b[32m 3\n",
      "\u001b[97m 2 \u001b[34m 8\n",
      "\u001b[97m 3 \u001b[34m inv\n",
      "\u001b[97m 4 \u001b[32m 8\n",
      "\u001b[97m 5 \u001b[34m 6\n",
      "\u001b[97m 6 \u001b[31m 9\n",
      "\u001b[97m 7 \u001b[32m inv\n",
      "\u001b[97m Piocher\n",
      "\u001b[34m Dernière carte jouée : 7\n"
     ]
    },
    {
     "name": "stdin",
     "output_type": "stream",
     "text": [
      "Choisissez le numéro d'une carte à poser :  2\n"
     ]
    },
    {
     "name": "stdout",
     "output_type": "stream",
     "text": [
      "------------------------------------------------------------------------------------------------------\n",
      "Au tour de : b\n",
      "\u001b[97m 1 \u001b[33m 4\n",
      "\u001b[97m 2 \u001b[32m 9\n",
      "\u001b[97m 3 \u001b[32m 0\n",
      "\u001b[97m 4 \u001b[32m X\n",
      "\u001b[97m 5 \u001b[33m 5\n",
      "\u001b[97m 6 \u001b[33m 9\n",
      "\u001b[97m Piocher\n",
      "\u001b[34m Dernière carte jouée : 8\n"
     ]
    },
    {
     "name": "stdin",
     "output_type": "stream",
     "text": [
      "Choisissez le numéro d'une carte à poser :  P\n"
     ]
    },
    {
     "name": "stdout",
     "output_type": "stream",
     "text": [
      "------------------------------------------------------------------------------------------------------\n",
      "Au tour de : a\n",
      "\u001b[97m 1 \u001b[32m 3\n",
      "\u001b[97m 2 \u001b[34m inv\n",
      "\u001b[97m 3 \u001b[32m 8\n",
      "\u001b[97m 4 \u001b[34m 6\n",
      "\u001b[97m 5 \u001b[31m 9\n",
      "\u001b[97m 6 \u001b[32m inv\n",
      "\u001b[97m Piocher\n",
      "\u001b[34m Dernière carte jouée : 8\n"
     ]
    },
    {
     "name": "stdin",
     "output_type": "stream",
     "text": [
      "Choisissez le numéro d'une carte à poser :  2\n"
     ]
    },
    {
     "name": "stdout",
     "output_type": "stream",
     "text": [
      "------------------------------------------------------------------------------------------------------\n",
      "Au tour de : b\n",
      "\u001b[97m 1 \u001b[33m 4\n",
      "\u001b[97m 2 \u001b[32m 9\n",
      "\u001b[97m 3 \u001b[32m 0\n",
      "\u001b[97m 4 \u001b[32m X\n",
      "\u001b[97m 5 \u001b[33m 5\n",
      "\u001b[97m 6 \u001b[33m 9\n",
      "\u001b[97m 7 \u001b[34m inv\n",
      "\u001b[97m Piocher\n",
      "\u001b[34m Dernière carte jouée : inv\n"
     ]
    },
    {
     "name": "stdin",
     "output_type": "stream",
     "text": [
      "Choisissez le numéro d'une carte à poser :  2\n"
     ]
    },
    {
     "name": "stdout",
     "output_type": "stream",
     "text": [
      "------------------------------------------------------------------------------------------------------\n",
      "Vous ne pouvez pas jouer cette carte !\n"
     ]
    },
    {
     "name": "stdin",
     "output_type": "stream",
     "text": [
      "Choisissez le numéro d'une carte à poser :  7\n"
     ]
    },
    {
     "name": "stdout",
     "output_type": "stream",
     "text": [
      "------------------------------------------------------------------------------------------------------\n",
      "Au tour de : a\n",
      "\u001b[97m 1 \u001b[32m 3\n",
      "\u001b[97m 2 \u001b[32m 8\n",
      "\u001b[97m 3 \u001b[34m 6\n",
      "\u001b[97m 4 \u001b[31m 9\n",
      "\u001b[97m 5 \u001b[32m inv\n",
      "\u001b[97m Piocher\n",
      "\u001b[34m Dernière carte jouée : inv\n"
     ]
    },
    {
     "name": "stdin",
     "output_type": "stream",
     "text": [
      "Choisissez le numéro d'une carte à poser :  3\n"
     ]
    },
    {
     "name": "stdout",
     "output_type": "stream",
     "text": [
      "------------------------------------------------------------------------------------------------------\n",
      "Au tour de : b\n",
      "\u001b[97m 1 \u001b[33m 4\n",
      "\u001b[97m 2 \u001b[32m 9\n",
      "\u001b[97m 3 \u001b[32m 0\n",
      "\u001b[97m 4 \u001b[32m X\n",
      "\u001b[97m 5 \u001b[33m 5\n",
      "\u001b[97m 6 \u001b[33m 9\n",
      "\u001b[97m Piocher\n",
      "\u001b[34m Dernière carte jouée : 6\n"
     ]
    },
    {
     "name": "stdin",
     "output_type": "stream",
     "text": [
      "Choisissez le numéro d'une carte à poser :  P\n"
     ]
    },
    {
     "name": "stdout",
     "output_type": "stream",
     "text": [
      "------------------------------------------------------------------------------------------------------\n",
      "Au tour de : a\n",
      "\u001b[97m 1 \u001b[32m 3\n",
      "\u001b[97m 2 \u001b[32m 8\n",
      "\u001b[97m 3 \u001b[31m 9\n",
      "\u001b[97m 4 \u001b[32m inv\n",
      "\u001b[97m Piocher\n",
      "\u001b[34m Dernière carte jouée : 6\n"
     ]
    },
    {
     "name": "stdin",
     "output_type": "stream",
     "text": [
      "Choisissez le numéro d'une carte à poser :  P\n"
     ]
    },
    {
     "name": "stdout",
     "output_type": "stream",
     "text": [
      "------------------------------------------------------------------------------------------------------\n",
      "Au tour de : b\n",
      "\u001b[97m 1 \u001b[33m 4\n",
      "\u001b[97m 2 \u001b[32m 9\n",
      "\u001b[97m 3 \u001b[32m 0\n",
      "\u001b[97m 4 \u001b[32m X\n",
      "\u001b[97m 5 \u001b[33m 5\n",
      "\u001b[97m 6 \u001b[33m 9\n",
      "\u001b[97m 7 \u001b[34m 5\n",
      "\u001b[97m Piocher\n",
      "\u001b[34m Dernière carte jouée : 6\n"
     ]
    },
    {
     "name": "stdin",
     "output_type": "stream",
     "text": [
      "Choisissez le numéro d'une carte à poser :  7\n"
     ]
    },
    {
     "name": "stdout",
     "output_type": "stream",
     "text": [
      "------------------------------------------------------------------------------------------------------\n",
      "Au tour de : a\n",
      "\u001b[97m 1 \u001b[32m 3\n",
      "\u001b[97m 2 \u001b[32m 8\n",
      "\u001b[97m 3 \u001b[31m 9\n",
      "\u001b[97m 4 \u001b[32m inv\n",
      "\u001b[97m 5 \u001b[34m 1\n",
      "\u001b[97m Piocher\n",
      "\u001b[34m Dernière carte jouée : 5\n"
     ]
    },
    {
     "name": "stdin",
     "output_type": "stream",
     "text": [
      "Choisissez le numéro d'une carte à poser :  5\n"
     ]
    },
    {
     "name": "stdout",
     "output_type": "stream",
     "text": [
      "------------------------------------------------------------------------------------------------------\n",
      "Au tour de : b\n",
      "\u001b[97m 1 \u001b[33m 4\n",
      "\u001b[97m 2 \u001b[32m 9\n",
      "\u001b[97m 3 \u001b[32m 0\n",
      "\u001b[97m 4 \u001b[32m X\n",
      "\u001b[97m 5 \u001b[33m 5\n",
      "\u001b[97m 6 \u001b[33m 9\n",
      "\u001b[97m Piocher\n",
      "\u001b[34m Dernière carte jouée : 1\n"
     ]
    },
    {
     "name": "stdin",
     "output_type": "stream",
     "text": [
      "Choisissez le numéro d'une carte à poser :  P\n"
     ]
    },
    {
     "name": "stdout",
     "output_type": "stream",
     "text": [
      "------------------------------------------------------------------------------------------------------\n",
      "Au tour de : a\n",
      "\u001b[97m 1 \u001b[32m 3\n",
      "\u001b[97m 2 \u001b[32m 8\n",
      "\u001b[97m 3 \u001b[31m 9\n",
      "\u001b[97m 4 \u001b[32m inv\n",
      "\u001b[97m Piocher\n",
      "\u001b[34m Dernière carte jouée : 1\n"
     ]
    },
    {
     "name": "stdin",
     "output_type": "stream",
     "text": [
      "Choisissez le numéro d'une carte à poser :  P\n"
     ]
    },
    {
     "name": "stdout",
     "output_type": "stream",
     "text": [
      "------------------------------------------------------------------------------------------------------\n",
      "Au tour de : b\n",
      "\u001b[97m 1 \u001b[33m 4\n",
      "\u001b[97m 2 \u001b[32m 9\n",
      "\u001b[97m 3 \u001b[32m 0\n",
      "\u001b[97m 4 \u001b[32m X\n",
      "\u001b[97m 5 \u001b[33m 5\n",
      "\u001b[97m 6 \u001b[33m 9\n",
      "\u001b[97m 7 \u001b[32m 6\n",
      "\u001b[97m Piocher\n",
      "\u001b[34m Dernière carte jouée : 1\n"
     ]
    }
   ],
   "source": [
    "import random\n",
    "from art import *\n",
    "\n",
    "class Settings:\n",
    "    COLORS = {\n",
    "        \"BLEU\": '\\033[34m',\n",
    "        \"ROUGE\": '\\033[31m',\n",
    "        \"JAUNE\": '\\033[33m',\n",
    "        \"VERT\": '\\033[32m',\n",
    "    }\n",
    "    \n",
    "    NB_PLUS_4 = 4\n",
    "    NB_PLUS_2_PER_COLOR = 2\n",
    "    NB_PLUS_INV_PER_COLOR = 2\n",
    "    NB_PLUS_STOP_PER_COLOR = 2\n",
    "    NB_ZERO_PER_COLOR = 1\n",
    "    NB_OTHER_PER_COLOR = 2\n",
    "    MAX_VALUES_CARDS = 9\n",
    "    \n",
    "    NB_PLAYER = 2\n",
    "    NB_CARDS_PER_PLAYER = 7\n",
    "    \n",
    "class Card:\n",
    "    def __init__(self, color, value):\n",
    "        self.color = color\n",
    "        self.value = value\n",
    "    \n",
    "class Player:\n",
    "    def __init__(self, pseudo):\n",
    "        self.pseudo = pseudo\n",
    "        self.main = []\n",
    "        \n",
    "    def addCard(self, card):\n",
    "        self.main.append(card)\n",
    "    \n",
    "    def printMain(self):\n",
    "        i = 1\n",
    "        for card in self.main:            \n",
    "            print(\"\\033[97m\",str(i),card.color,card.value)\n",
    "            i+=1\n",
    "                       \n",
    "        print(\"\\033[97m\",\"Piocher\")\n",
    "        \n",
    "class Game:\n",
    "    def __init__(self, lstPlayer, lstCard):\n",
    "        #Liste des joueurs\n",
    "        self.lstPlayer = lstPlayer\n",
    "        #Liste des cartes de la pioche\n",
    "        self.lstCard = lstCard\n",
    "        #Dernière carte jouée\n",
    "        self.lastCardPlayed = None\n",
    "        #Si la partie est terminée\n",
    "        self.finish = False\n",
    "        #Le joueur gagnant\n",
    "        self.winner = None\n",
    "        #Si le prochain joueur est bloqué\n",
    "        self.nextBlocked = False\n",
    "        self.sensInverse = False\n",
    "        #Joueur actuel\n",
    "        self.currentPlayer = None\n",
    "        self.initialisation()\n",
    "        \n",
    "    #Initialisation de la partie\n",
    "    def initialisation(self):\n",
    "        #Mélange des cartes de la pioche\n",
    "        random.shuffle(self.lstCard)\n",
    "        #Distribution des cartes à chaque joueur\n",
    "        for i in range(Settings.NB_CARDS_PER_PLAYER):\n",
    "            for player in self.lstPlayer:\n",
    "                player.addCard(self.lstCard[0])  \n",
    "                self.lstCard.pop(0)\n",
    "        \n",
    "        #Retourner la première carte du jeu jusqu'à ce que ça ne soit pas un +4\n",
    "        self.lastCardPlayed = self.lstCard[0]\n",
    "        while self.lastCardPlayed.value == \"+4\":\n",
    "            self.lstCard.pop(0)\n",
    "            self.lastCardPlayed = self.lstCard[0]\n",
    "    \n",
    "    def printLstCard(self):\n",
    "        for card in self.lstCard:\n",
    "            print(card.color, card.value)\n",
    "            \n",
    "    def printLstPlayer(self):\n",
    "        for player in self.lstPlayer:\n",
    "            print(player.pseudo)\n",
    "    \n",
    "    #Vérification si on peut jouer la carte ou pas (si même valeur, couleur ou +4)\n",
    "    def verifCardValide(self, card):\n",
    "        if card.value == self.lastCardPlayed.value or card.color == self.lastCardPlayed.color or card.value == \"+4\":\n",
    "            return True\n",
    "        else:\n",
    "            return False\n",
    "    \n",
    "    #Piocher\n",
    "    def piocher(self, player, nbCards):\n",
    "        for i in range(nbCards):\n",
    "            player.addCard(self.lstCard[0])  \n",
    "            self.lstCard.pop(0)\n",
    "    \n",
    "    #Appliquer l'effet de la carte (s'il y en a un)\n",
    "    def applyEffectCard(self, card, player):\n",
    "        if card.value == \"X\":\n",
    "            self.nextBlocked = True\n",
    "        if card.value == \"inv\":\n",
    "            self.sensInverse = True\n",
    "        if card.value == \"+2\":\n",
    "            self.nextBlocked = True\n",
    "            self.piocher(player, 2)\n",
    "        if card.value == \"+4\":\n",
    "            self.nextBlocked = True\n",
    "            print(\"Liste des couleurs :\")\n",
    "            for color in Settings.COLORS:\n",
    "                print(Settings.COLORS[color], color)\n",
    "\n",
    "            color = None\n",
    "            while color is None:\n",
    "                colorNumber = input(\"Choisissez la prochaine couleur : \")\n",
    "                try:\n",
    "                    color = Settings.COLORS[colorNumber]\n",
    "                except:\n",
    "                    print(\"Cette couleur n'existe pas !\")\n",
    "            card.color = color\n",
    "            self.piocher(player, 4)\n",
    "        self.lastCardPlayed = card\n",
    "    \n",
    "    #Regarder si un joueur n'a plus de cartes en main\n",
    "    def isWinner(self, player):\n",
    "        if len(player.main) <= 0:\n",
    "            self.winner = player\n",
    "            self.finish = True\n",
    "            print(player.pseudo + \" à gagné !\")\n",
    "        return self.finish\n",
    "    \n",
    "    #Regarder s'il n'y a plus de cartes dans la pioche\n",
    "    def noMoreCards(self):\n",
    "        if len(self.lstCard) <= 0:\n",
    "            self.finish = True\n",
    "            print(\"La partie est terminée, il n'y a plus de cartes ! EGALITEEEEEEEE !\")\n",
    "            \n",
    "    #Début des tours de jeu\n",
    "    def start(self):\n",
    "        while not self.finish:\n",
    "            i = 0\n",
    "            for player in self.lstPlayer:\n",
    "                self.currentPlayer = player\n",
    "                if not self.nextBlocked:                    \n",
    "                    print(\"Au tour de :\", player.pseudo)\n",
    "                    player.printMain()\n",
    "                    valideCard = False\n",
    "                    card = None\n",
    "\n",
    "                    print(self.lastCardPlayed.color, \"Dernière carte jouée : \" + self.lastCardPlayed.value)\n",
    "                    while not valideCard:\n",
    "                        numCard = input(\"Choisissez le numéro d'une carte à poser : \")\n",
    "                        print(\"------------------------------------------------------------------------------------------------------\")\n",
    "                        if numCard == \"P\":\n",
    "                            self.piocher(player, 1)\n",
    "                            valideCard = True\n",
    "                        else:                                                \n",
    "                            try:\n",
    "                                card = player.main[int(numCard)-1]\n",
    "                                valideCard = self.verifCardValide(card)\n",
    "\n",
    "                                if not valideCard:\n",
    "                                    print(\"Vous ne pouvez pas jouer cette carte !\")\n",
    "                                else:\n",
    "                                    nextPlayer = None\n",
    "                                    if i+1 > len(self.lstPlayer)-1:\n",
    "                                        nextPlayer = self.lstPlayer[0]\n",
    "                                    else:\n",
    "                                        nextPlayer = self.lstPlayer[i+1]\n",
    "                                    self.applyEffectCard(card, nextPlayer)\n",
    "                                    player.main.pop(int(numCard)-1)\n",
    "                            except:\n",
    "                                print(\"Vous ne pouvez pas jouer cette carte !\")                                \n",
    "                else:\n",
    "                    print(player.pseudo + \" a été bloqué !\")\n",
    "                    self.nextBlocked = False\n",
    "                if self.isWinner(player):\n",
    "                    break\n",
    "                if self.sensInverse:\n",
    "                    newLstPlayer = []\n",
    "                    for j in range(len(self.lstPlayer)):\n",
    "                        if i-1 < 0:\n",
    "                            i = len(self.lstPlayer)\n",
    "                        i-=1\n",
    "                        newLstPlayer.append(self.lstPlayer[i])\n",
    "                    self.lstPlayer = newLstPlayer\n",
    "                    self.sensInverse = False\n",
    "                    break\n",
    "                i+=1\n",
    "            self.noMoreCards()\n",
    "        \n",
    "#Générer la liste de cartes dans la pioche\n",
    "def generateListCard():\n",
    "    lstCard = []\n",
    "    for i in range(Settings.NB_PLUS_4):\n",
    "        lstCard.append(Card(\"\\033[97m\", \"+4\"))\n",
    "    \n",
    "    for color in Settings.COLORS:\n",
    "        for i in range(Settings.NB_PLUS_2_PER_COLOR):\n",
    "            lstCard.append(Card(Settings.COLORS[color], \"+2\"))\n",
    "        for i in range(Settings.NB_PLUS_INV_PER_COLOR):\n",
    "            lstCard.append(Card(Settings.COLORS[color], \"inv\"))\n",
    "        for i in range(Settings.NB_PLUS_STOP_PER_COLOR):\n",
    "            lstCard.append(Card(Settings.COLORS[color], \"X\"))\n",
    "        \n",
    "        for i in range(Settings.NB_ZERO_PER_COLOR):            \n",
    "            lstCard.append(Card(Settings.COLORS[color], \"0\"))\n",
    "            \n",
    "        for i in range(1, Settings.MAX_VALUES_CARDS+1): \n",
    "            for j in range(Settings.NB_OTHER_PER_COLOR):            \n",
    "                lstCard.append(Card(Settings.COLORS[color], str(i)))\n",
    "            \n",
    "    return lstCard\n",
    "    \n",
    "#Générer la liste de joueurs\n",
    "def generateListPlayer():\n",
    "    lstPlayer = []\n",
    "    for i in range(1, Settings.NB_PLAYER+1):\n",
    "        pseudo = input(\"Pseudo du joueur \" + str(i) + \" :\")\n",
    "        lstPlayer.append(Player(pseudo))\n",
    "    print(\"------------------------------------------------------------------------------------------------------\")\n",
    "            \n",
    "    return lstPlayer\n",
    "\n",
    "game = Game(generateListPlayer(), generateListCard())\n",
    "game.start()"
   ]
  },
  {
   "cell_type": "code",
   "execution_count": null,
   "metadata": {},
   "outputs": [],
   "source": []
  }
 ],
 "metadata": {
  "kernelspec": {
   "display_name": "Python 3",
   "language": "python",
   "name": "python3"
  },
  "language_info": {
   "codemirror_mode": {
    "name": "ipython",
    "version": 3
   },
   "file_extension": ".py",
   "mimetype": "text/x-python",
   "name": "python",
   "nbconvert_exporter": "python",
   "pygments_lexer": "ipython3",
   "version": "3.8.5"
  }
 },
 "nbformat": 4,
 "nbformat_minor": 4
}
